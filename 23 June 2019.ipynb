{
 "cells": [
  {
   "cell_type": "markdown",
   "metadata": {},
   "source": [
    "#### Files"
   ]
  },
  {
   "cell_type": "code",
   "execution_count": null,
   "metadata": {},
   "outputs": [],
   "source": [
    "def readfile(filepath):\n",
    "    f=open(filepath,\"r\")\n",
    "    f.read()\n",
    "    f.close()\n",
    "filepath=\"Datafiles/test.txt\"\n",
    "readfile(filepath)"
   ]
  },
  {
   "cell_type": "code",
   "execution_count": 6,
   "metadata": {},
   "outputs": [
    {
     "data": {
      "text/plain": [
       "[['name', '99481844518', 'kalyanch264@gmail.com \\n'],\n",
       " ['name2', '2983124834', 'name2@gmail.com/n\\n'],\n",
       " ['name3', '1234567099', 'name3@gmail.com/n']]"
      ]
     },
     "execution_count": 6,
     "metadata": {},
     "output_type": "execute_result"
    }
   ],
   "source": [
    "def readfile(filepath):\n",
    "    with open(filepath,\"r\") as f:\n",
    "        l=[]\n",
    "        for i in f:\n",
    "            l.append(i.lstrip().split(\",\"))\n",
    "        return l\n",
    "            \n",
    "    \n",
    "    \n",
    "filepath=\"Datafiles/test.txt\"\n",
    "readfile(filepath)"
   ]
  },
  {
   "cell_type": "code",
   "execution_count": 16,
   "metadata": {},
   "outputs": [
    {
     "data": {
      "text/plain": [
       "False"
      ]
     },
     "execution_count": 16,
     "metadata": {},
     "output_type": "execute_result"
    }
   ],
   "source": [
    "def readfile(filepath):\n",
    "    with open(filepath,\"r\") as f:\n",
    "        l=[]\n",
    "        for i in f:\n",
    "            l.append(i.strip().split(\",\"))\n",
    "        \n",
    "        if l[1][0]==\"name5\":\n",
    "            return True\n",
    "        else:\n",
    "            return False\n",
    "           # l[1][2]=\"rhoti@gmail.com\"\n",
    "            \n",
    "        #return l\n",
    "            \n",
    "    \n",
    "    \n",
    "filepath=\"Datafiles/test.txt\"\n",
    "readfile(filepath)"
   ]
  },
  {
   "cell_type": "code",
   "execution_count": 7,
   "metadata": {},
   "outputs": [
    {
     "data": {
      "text/plain": [
       "False"
      ]
     },
     "execution_count": 7,
     "metadata": {},
     "output_type": "execute_result"
    }
   ],
   "source": [
    "def readfile(filepath):\n",
    "    with open(filepath,\"r\") as f:\n",
    "        l=[]\n",
    "        for i in f:\n",
    "            l.append(i.strip().split(\",\"))\n",
    "        \n",
    "        if l[0][0]==\"name\":\n",
    "            l[0][0].remove()\n",
    "        else:\n",
    "            return False\n",
    "           # l[1][2]=\"rhoti@gmail.com\"\n",
    "            \n",
    "    return l\n",
    "            \n",
    "    \n",
    "    \n",
    "filepath=\"Datafiles/test.txt\"\n",
    "readfile(filepath)"
   ]
  },
  {
   "cell_type": "code",
   "execution_count": null,
   "metadata": {},
   "outputs": [],
   "source": [
    "s=input()\n",
    "l=list(map(int,str(s)))\n",
    "print(sum(l))\n",
    "\n",
    "#a=list(map(int,input().split()))\n",
    "#print(sum(a))\n"
   ]
  },
  {
   "cell_type": "code",
   "execution_count": null,
   "metadata": {},
   "outputs": [],
   "source": [
    "s1=input()\n",
    "s2=input()\n",
    "k=\"FLAME\"\n",
    "res=0;\n",
    "for i in range(ord('a'),ord('z')+1):\n",
    "   res=res+abs(s1.count(chr(i))-s2.count(chr(i)));\n",
    "temp=res%5\n",
    "if(temp==0):\n",
    "   print(\"S\");\n",
    "else:\n",
    "   print(k[temp-1])\n"
   ]
  },
  {
   "cell_type": "markdown",
   "metadata": {},
   "source": [
    "#### Files\n",
    "    - Unique word extraction\n",
    "    - count unique words in a text file\n",
    "    - Frequency distribution of words in a file"
   ]
  },
  {
   "cell_type": "code",
   "execution_count": 1,
   "metadata": {},
   "outputs": [
    {
     "name": "stdout",
     "output_type": "stream",
     "text": [
      "we have  2 Unique words in file\n"
     ]
    }
   ],
   "source": [
    "# count unique words in a text file\n",
    "def unique_words_count(filename):\n",
    "    dict={}\n",
    "    count=0\n",
    "    with open(filename,'r') as f:\n",
    "        data=f.read().split()\n",
    "        for j in range(0,len(data),1):\n",
    "            if (data[j] in dict):\n",
    "                 dict[data[j]]+=1\n",
    "            else:\n",
    "                dict[data[j]]=1\n",
    "    for key,value in dict.items():\n",
    "        if dict[key]==1:\n",
    "            count=count+1\n",
    "    print(\"we have \",count,\"Unique words in file\")\n",
    "filename=\"Datafiles/data.txt\"\n",
    "unique_words_count(filename)"
   ]
  },
  {
   "cell_type": "code",
   "execution_count": 6,
   "metadata": {},
   "outputs": [
    {
     "name": "stdout",
     "output_type": "stream",
     "text": [
      "2\n"
     ]
    }
   ],
   "source": [
    "def unique_word_count(filename,word):\n",
    "    c=0\n",
    "    with open(filename,'r') as f:\n",
    "        for line in f:\n",
    "            words=line.split(\" \")\n",
    "            for i in range(0,len(words),1):\n",
    "                if words[i]==word or words[i]==word+\"\\n\":\n",
    "                    c=c+1\n",
    "    print(c)\n",
    "filename=\"Datafiles/data.txt\"\n",
    "unique_word_count(filename,'sana')"
   ]
  },
  {
   "cell_type": "code",
   "execution_count": 7,
   "metadata": {},
   "outputs": [
    {
     "ename": "FileNotFoundError",
     "evalue": "[Errno 2] No such file or directory: 'Datafiels/data.txt'",
     "output_type": "error",
     "traceback": [
      "\u001b[1;31m---------------------------------------------------------------------------\u001b[0m",
      "\u001b[1;31mFileNotFoundError\u001b[0m                         Traceback (most recent call last)",
      "\u001b[1;32m<ipython-input-7-61aca031fbcf>\u001b[0m in \u001b[0;36m<module>\u001b[1;34m\u001b[0m\n\u001b[0;32m     15\u001b[0m \u001b[1;33m\u001b[0m\u001b[0m\n\u001b[0;32m     16\u001b[0m \u001b[0mfilename\u001b[0m\u001b[1;33m=\u001b[0m\u001b[1;34m\"Datafiels/data.txt\"\u001b[0m\u001b[1;33m\u001b[0m\u001b[1;33m\u001b[0m\u001b[0m\n\u001b[1;32m---> 17\u001b[1;33m \u001b[0mfreq_destribution_of_words\u001b[0m\u001b[1;33m(\u001b[0m\u001b[0mfilename\u001b[0m\u001b[1;33m)\u001b[0m\u001b[1;33m\u001b[0m\u001b[1;33m\u001b[0m\u001b[0m\n\u001b[0m",
      "\u001b[1;32m<ipython-input-7-61aca031fbcf>\u001b[0m in \u001b[0;36mfreq_destribution_of_words\u001b[1;34m(filename)\u001b[0m\n\u001b[0;32m      2\u001b[0m \u001b[1;32mdef\u001b[0m \u001b[0mfreq_destribution_of_words\u001b[0m\u001b[1;33m(\u001b[0m\u001b[0mfilename\u001b[0m\u001b[1;33m)\u001b[0m\u001b[1;33m:\u001b[0m\u001b[1;33m\u001b[0m\u001b[1;33m\u001b[0m\u001b[0m\n\u001b[0;32m      3\u001b[0m     \u001b[0mdict\u001b[0m\u001b[1;33m=\u001b[0m\u001b[1;33m{\u001b[0m\u001b[1;33m}\u001b[0m\u001b[1;33m\u001b[0m\u001b[1;33m\u001b[0m\u001b[0m\n\u001b[1;32m----> 4\u001b[1;33m     \u001b[1;32mwith\u001b[0m \u001b[0mopen\u001b[0m\u001b[1;33m(\u001b[0m\u001b[0mfilename\u001b[0m\u001b[1;33m,\u001b[0m\u001b[1;34m'r'\u001b[0m\u001b[1;33m)\u001b[0m \u001b[1;32mas\u001b[0m \u001b[0mf\u001b[0m\u001b[1;33m:\u001b[0m\u001b[1;33m\u001b[0m\u001b[1;33m\u001b[0m\u001b[0m\n\u001b[0m\u001b[0;32m      5\u001b[0m         \u001b[0mdata\u001b[0m\u001b[1;33m=\u001b[0m\u001b[0mf\u001b[0m\u001b[1;33m.\u001b[0m\u001b[0mread\u001b[0m\u001b[1;33m(\u001b[0m\u001b[1;33m)\u001b[0m\u001b[1;33m.\u001b[0m\u001b[0msplit\u001b[0m\u001b[1;33m(\u001b[0m\u001b[1;33m)\u001b[0m\u001b[1;33m\u001b[0m\u001b[1;33m\u001b[0m\u001b[0m\n\u001b[0;32m      6\u001b[0m \u001b[1;33m\u001b[0m\u001b[0m\n",
      "\u001b[1;31mFileNotFoundError\u001b[0m: [Errno 2] No such file or directory: 'Datafiels/data.txt'"
     ]
    }
   ],
   "source": [
    "# Frequency distribution of words in a file(count each word how many times it was occured)\n",
    "def freq_destribution_of_words(filename):\n",
    "    dict={}\n",
    "    with open(filename,'r') as f:\n",
    "        data=f.read().split()\n",
    "        \n",
    "        for j in range(0,len(data),1):\n",
    "            if (data[j] in dict):\n",
    "                 dict[data[j]]+=1\n",
    "            else:\n",
    "                dict[data[j]]=1\n",
    "    print(dict)\n",
    "    for key,value in dict.items():\n",
    "        print(key,\":\",value)\n",
    "\n",
    "filename=\"Datafils/data.txt\"\n",
    "freq_destribution_of_words(filename)"
   ]
  },
  {
   "cell_type": "code",
   "execution_count": null,
   "metadata": {},
   "outputs": [],
   "source": []
  }
 ],
 "metadata": {
  "kernelspec": {
   "display_name": "Python 3",
   "language": "python",
   "name": "python3"
  },
  "language_info": {
   "codemirror_mode": {
    "name": "ipython",
    "version": 3
   },
   "file_extension": ".py",
   "mimetype": "text/x-python",
   "name": "python",
   "nbconvert_exporter": "python",
   "pygments_lexer": "ipython3",
   "version": "3.7.3"
  }
 },
 "nbformat": 4,
 "nbformat_minor": 2
}
