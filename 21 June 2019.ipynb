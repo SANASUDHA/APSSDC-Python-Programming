{
 "cells": [
  {
   "cell_type": "code",
   "execution_count": 38,
   "metadata": {},
   "outputs": [
    {
     "name": "stdout",
     "output_type": "stream",
     "text": [
      "pavan added to contacts\n"
     ]
    }
   ],
   "source": [
    "# Function to add contact to contacts text file\n",
    "from Packages.validators import phoneNumValidator as pnv\n",
    "from Packages.validators import emailValidator as ev\n",
    "\n",
    "def addContact(name, phone, email):\n",
    "    #store data as name,phone,email in the contcats\n",
    "    \n",
    "    filename='Datafiles/contacts.txt'\n",
    "    if not checkcontactExists(name):\n",
    "        if pnv(phone)and ev(email):\n",
    "            with open(filename, 'a') as f:\n",
    "                line = name + ',' +str(phone) + ',' + email + '\\n'\n",
    "                f.write(line)\n",
    "            print(name, 'added to contacts')\n",
    "        else:\n",
    "            print('invalid phone number or mail')\n",
    "        #return\n",
    "    else:\n",
    "        print(\"contact already exists\")\n",
    "    \n",
    "addContact('pavan',8297751907, \"sudha.s@apssdc.in\")\n",
    "# Function to check if contact is alredy exist\n",
    "import re\n",
    "def checkcontactExists(name):\n",
    "    filename='Datafiles/contacts.txt'\n",
    "    with open(filename, 'r') as f:\n",
    "        filedata = f.read()\n",
    "        pattern = name+','\n",
    "    return re.search(name, filedata)\n",
    "#checkContactExists('sana')\n",
    "\n",
    "#if checkContactExists('sana'):\n",
    "    #print(True)\n",
    "#else:\n",
    "    #print(False)\n",
    "#addContact(\"sudha\", 1234567890, \"sudha123@gmauk.com\")"
   ]
  },
  {
   "cell_type": "code",
   "execution_count": 5,
   "metadata": {},
   "outputs": [
    {
     "data": {
      "text/plain": [
       "[['saan', '9642294614', 'sana@gmail.com\\n'],\n",
       " ['sudha', '7036605702', 'sudha@gmail.com']]"
      ]
     },
     "execution_count": 5,
     "metadata": {},
     "output_type": "execute_result"
    }
   ],
   "source": [
    "filename='Datafiles/contacts.txt'\n",
    "def csvToList(filename):\n",
    "    li=[]\n",
    "    with open(filename, 'r') as f:\n",
    "        for line in f:\n",
    "            li.append(line.split(','))\n",
    "    return li\n",
    "#csvToList(filename)\n",
    "    \n",
    "    "
   ]
  },
  {
   "cell_type": "code",
   "execution_count": 8,
   "metadata": {},
   "outputs": [
    {
     "data": {
      "text/plain": [
       "'saan9642294614sana@gmail.com\\nsudhasaan9642294614sana@gmail.com\\n7036605702saan9642294614sana@gmail.com\\nsudha@gmail.com'"
      ]
     },
     "execution_count": 8,
     "metadata": {},
     "output_type": "execute_result"
    }
   ],
   "source": [
    "def listToFiles(li):\n",
    "    s=''\n",
    "    for i in li:\n",
    "        s += s.join(i)\n",
    "    return s\n",
    "li=csvToList(filename)\n",
    "listToFiles(li)"
   ]
  },
  {
   "cell_type": "code",
   "execution_count": 4,
   "metadata": {},
   "outputs": [],
   "source": [
    "fname=\"Datafiles/mycontacts.txt\"\n",
    "f=open(fname,'w')\n",
    "f.write(\"\\nsadha,9642294614,sana@gmail.com\")\n",
    "f.close()\n"
   ]
  },
  {
   "cell_type": "code",
   "execution_count": 3,
   "metadata": {},
   "outputs": [
    {
     "name": "stdout",
     "output_type": "stream",
     "text": [
      "\n",
      "sana,9642294614,sana@gmail.com"
     ]
    }
   ],
   "source": [
    "def listcontacts(fname):\n",
    "    with open(fname,'r') as f:\n",
    "        for line in f.readlines():\n",
    "            print(line,end='')\n",
    "listcontacts(fname)\n",
    "    "
   ]
  },
  {
   "cell_type": "code",
   "execution_count": null,
   "metadata": {},
   "outputs": [],
   "source": []
  }
 ],
 "metadata": {
  "kernelspec": {
   "display_name": "Python 3",
   "language": "python",
   "name": "python3"
  },
  "language_info": {
   "codemirror_mode": {
    "name": "ipython",
    "version": 3
   },
   "file_extension": ".py",
   "mimetype": "text/x-python",
   "name": "python",
   "nbconvert_exporter": "python",
   "pygments_lexer": "ipython3",
   "version": "3.7.3"
  }
 },
 "nbformat": 4,
 "nbformat_minor": 2
}
