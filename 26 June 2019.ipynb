{
 "cells": [
  {
   "cell_type": "markdown",
   "metadata": {},
   "source": [
    "#### Largest and Lowest numbers\n",
    " - 1.Function to find largest number in a list\n",
    " - 2.Second largest number in a list\n",
    " - 3.'K'th largest number in a list\n",
    "\n",
    " - Element with highest frequency\n",
    " - Second highest frequency\n",
    " - Kth highest frequency\n",
    " - Kth lowest frequency"
   ]
  },
  {
   "cell_type": "code",
   "execution_count": null,
   "metadata": {},
   "outputs": [],
   "source": [
    "#'K'th largest number in a list\n",
    "with  open(\"../input.txt\",'r') as f:\n",
    "    t=int(input())\n",
    "    for i in range(t):\n",
    "        s=input()\n",
    "        k=int(input())\n",
    "        print(klargestfrequency(s,k))"
   ]
  },
  {
   "cell_type": "code",
   "execution_count": 6,
   "metadata": {},
   "outputs": [
    {
     "data": {
      "text/plain": [
       "7"
      ]
     },
     "execution_count": 6,
     "metadata": {},
     "output_type": "execute_result"
    }
   ],
   "source": [
    "# Second largest number in a list(1st method)\n",
    "\n",
    "def secondlargest(li):\n",
    "    # convert the list into a unique list\n",
    "    unique=[]\n",
    "    for n in li:\n",
    "        if n not in unique:\n",
    "            unique.append(n)\n",
    "    unique=sorted(unique, reverse=True)\n",
    "    return unique[1]\n",
    "\n",
    "secondlargest([3,5,7,6,5,2,8])            "
   ]
  },
  {
   "cell_type": "code",
   "execution_count": 7,
   "metadata": {},
   "outputs": [
    {
     "data": {
      "text/plain": [
       "7"
      ]
     },
     "execution_count": 7,
     "metadata": {},
     "output_type": "execute_result"
    }
   ],
   "source": [
    "# second method(2nd method)\n",
    "def secondlargest(li):\n",
    "    # convert the list into a unique list\n",
    "    unique=[]\n",
    "    for n in li:\n",
    "        if n not in unique:\n",
    "            unique.append(n)\n",
    "    unique=sorted(unique, reverse=True)\n",
    "    if len(unique)>1:\n",
    "        return unique[1]\n",
    "    return -1\n",
    "secondlargest([3,5,7,6,5,2,8])"
   ]
  },
  {
   "cell_type": "code",
   "execution_count": 21,
   "metadata": {},
   "outputs": [
    {
     "name": "stdout",
     "output_type": "stream",
     "text": [
      "6\n"
     ]
    }
   ],
   "source": [
    "# Find fifthleast number\n",
    "def fifthleast(li):\n",
    "        li.sort()\n",
    "        print(li[5])\n",
    "        \n",
    "fifthleast([2,4,3,1,6,9,7,5])  \n",
    "    "
   ]
  },
  {
   "cell_type": "code",
   "execution_count": 7,
   "metadata": {},
   "outputs": [
    {
     "data": {
      "text/plain": [
       "3"
      ]
     },
     "execution_count": 7,
     "metadata": {},
     "output_type": "execute_result"
    }
   ],
   "source": [
    "# Find Kthsmallest number\n",
    "def ksmallest(li, k):\n",
    "    # extract unique elements in the list\n",
    "    unique=[]\n",
    "    for i in li:\n",
    "        if i not in unique:\n",
    "            unique.append(i)\n",
    "    # sort the unique list in ascending order\n",
    "    unique=sorted(unique, reverse=True)\n",
    "    unique=sorted(unique)\n",
    "    # check if length of unique list is greater than k\n",
    "    if len(unique) >= k:\n",
    "        return unique[k-1]\n",
    "    return -1\n",
    "ksmallest([1,4,3], 2)\n",
    "\n"
   ]
  },
  {
   "cell_type": "code",
   "execution_count": 41,
   "metadata": {},
   "outputs": [
    {
     "data": {
      "text/plain": [
       "3"
      ]
     },
     "execution_count": 41,
     "metadata": {},
     "output_type": "execute_result"
    }
   ],
   "source": [
    "# Function to identify the element with highest frequency in a list\n",
    "# If many elements have the highest frequency, return the smallest\n",
    "# highestfrequencyelement([1,2,3,9,8,7,3,4,2,1])\n",
    "\n",
    "def highestfrequencyelement(li):\n",
    "    # extract unique elements with frequency\n",
    "    unique={}\n",
    "    for n in li:\n",
    "        if n in unique:\n",
    "            unique[n]+=1\n",
    "        else:\n",
    "            unique[n] = 1\n",
    "            \n",
    "    # unique={1:2, 2:2, 3:2, 9:1, 8:1, 7:1, 4:1}            \n",
    "    # getting all the frequencies into a list\n",
    "    freq = unique.values()\n",
    "    maxfreq = max(freq)\n",
    "    maxfreqE=[]\n",
    "    \n",
    "# Identify the smallest number \n",
    "    for item in unique.items():\n",
    "        if item[1]==maxfreq:\n",
    "            maxfreqE.append(item[0])\n",
    "            \n",
    "#select the minimum from the keys with frequency\n",
    "    return min(maxfreqE) # minfreqE[k-1]\n",
    "highestfrequencyelement([1,2,3,3,4,1,2,3,3,2])\n",
    "# {1:2,2:3,3:4,4:1,}--> 3 is 4 times repeated so highest freq is 3.\n",
    "\n",
    "    "
   ]
  },
  {
   "cell_type": "code",
   "execution_count": 1,
   "metadata": {},
   "outputs": [
    {
     "name": "stdout",
     "output_type": "stream",
     "text": [
      "2\n"
     ]
    }
   ],
   "source": [
    "# function to define second highest frequency element.\n",
    "# If there are many such elements, return the smallest.\n",
    "# [1,2,3,2,1,4,4,9] --> 3\n",
    "def secondhighestfreqElement(li):\n",
    "    unique={}\n",
    "    for i in li:\n",
    "        if i not in unique:\n",
    "            unique[i]=1\n",
    "        else:\n",
    "            unique[i]+=1\n",
    "    # {1:2,2:2,3:1,4:2,9:1}\n",
    "    freq=unique.values() \n",
    "    un=[]\n",
    "    for i in freq:\n",
    "        if i not in un:\n",
    "            un.append(i)\n",
    "    un=sorted(un)\n",
    "    secondmaxfreq=un[-2]\n",
    "    maxfreqE=[]\n",
    "    for item in unique.items():\n",
    "        #item -> (key,value)\n",
    "        if item[1]==secondmaxfreq:\n",
    "            maxfreqE.append(item[0])\n",
    "    return min(maxfreqE)\n",
    "\n",
    "print(secondhighestfreqElement([1,2,3,1,4,4,9,]))"
   ]
  },
  {
   "cell_type": "code",
   "execution_count": 61,
   "metadata": {},
   "outputs": [
    {
     "data": {
      "text/plain": [
       "6"
      ]
     },
     "execution_count": 61,
     "metadata": {},
     "output_type": "execute_result"
    }
   ],
   "source": [
    "# Kth highest frequency \n",
    "# [9,8,7,6,5,2,3,4,9,6,7,7,7,6,7,6],K=4 -> 2\n",
    "def khighestfreq(s, k):\n",
    "    # unique characters with frequencies\n",
    "    unique={}\n",
    "    for c in s:\n",
    "        if c not in unique:\n",
    "            unique[c]=1\n",
    "        else:\n",
    "            unique[c] += 1\n",
    "    #return unique\n",
    "    # unique={9:2,8:1,7:5,6:4,5:1,2:1,3:1,4:1}\n",
    "    \n",
    "    # extract all unique frequencies in a list\n",
    "    # unique = [2,1,5,4]\n",
    "    uniqfreq=[]\n",
    "    for value in unique.values():\n",
    "        if value not in uniqfreq:\n",
    "            uniqfreq.append(value)\n",
    "    #return uniqfreq  \n",
    "    # [2, 1, 5, 4]\n",
    "    \n",
    "    uniqfreq=sorted(uniqfreq, reverse=True)\n",
    "    #return uniqfreq\n",
    "    #[5, 4, 2, 1]\n",
    "    if len(uniqfreq)>= k:\n",
    "        kfreq=uniqfreq[k-1]\n",
    "    else:\n",
    "        return -1\n",
    "    kfreqchar=[]\n",
    "    for item in unique.items():\n",
    "        if item[1] == kfreq:\n",
    "            kfreqchar.append(item[0])\n",
    "    return min(kfreqchar)\n",
    "\n",
    "with open(\"Datafiles/k-largest-frequency-\"):\n",
    "    t=int(f.readline())\n",
    "    print(t)\n",
    "    for i in range(t):\n",
    "        s=f.readline()\n",
    "        k=int(f.readline())\n",
    "        print(f.readline(s, k))\n",
    "#khighestfreq([9,8,7,6,5,2,3,4,9,6,7,7,7,6,7,6,6], 1)"
   ]
  },
  {
   "cell_type": "code",
   "execution_count": 2,
   "metadata": {},
   "outputs": [
    {
     "name": "stdout",
     "output_type": "stream",
     "text": [
      "-1\n"
     ]
    }
   ],
   "source": [
    "# Kth lowest frequency \n",
    "# [9,8,7,6,5,2,3,4,9,6,7,7,7,6,7,6]\n",
    "def kth_lowestfreqElement(li,k):\n",
    "    unique={}\n",
    "    for i in li:\n",
    "        if i not in unique:\n",
    "            unique[i]=1\n",
    "        else:\n",
    "            unique[i]+=1\n",
    "    # {1:2,2:1,3:1,4:2,9:1}\n",
    "    \n",
    "    freq=unique.values() \n",
    "    un=[]\n",
    "    for i in freq:\n",
    "        if i not in un:\n",
    "            un.append(i)\n",
    "    un=sorted(un)\n",
    "    \n",
    "    if len(un)>=k:\n",
    "        kthlowfreq=un[k-1]\n",
    "        \n",
    "        lowfreqE=[]\n",
    "        for item in unique.items():\n",
    "            #item -> (key,value)\n",
    "            if item[1]==kthlowfreq:\n",
    "                lowfreqE.append(item[0])\n",
    "\n",
    "        return min(lowfreqE)\n",
    "    return -1\n",
    "\n",
    "print(kth_lowestfreqElement([9,8,7,6,5,2,3,4,9,6,7,7,7,6,7,6],5))\n"
   ]
  },
  {
   "cell_type": "code",
   "execution_count": null,
   "metadata": {},
   "outputs": [],
   "source": []
  }
 ],
 "metadata": {
  "kernelspec": {
   "display_name": "Python 3",
   "language": "python",
   "name": "python3"
  },
  "language_info": {
   "codemirror_mode": {
    "name": "ipython",
    "version": 3
   },
   "file_extension": ".py",
   "mimetype": "text/x-python",
   "name": "python",
   "nbconvert_exporter": "python",
   "pygments_lexer": "ipython3",
   "version": "3.7.3"
  }
 },
 "nbformat": 4,
 "nbformat_minor": 2
}
