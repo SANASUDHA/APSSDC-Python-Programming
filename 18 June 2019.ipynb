{
 "cells": [
  {
   "cell_type": "markdown",
   "metadata": {},
   "source": [
    "##### Play with numbers"
   ]
  },
  {
   "cell_type": "code",
   "execution_count": null,
   "metadata": {},
   "outputs": [],
   "source": [
    "# read no of array elements and no of queries\n",
    "n = input().split()\n",
    "n[0], n[1] = int(n[0]), int(n[1])\n",
    "# Read array elements\n",
    "a = input().split()\n",
    "sum = [] # initialize cumulative sum array\n",
    "# Cumulative sum\n",
    "for i in range(0, n[0]):\n",
    "    if i == 0:\n",
    "        sum.append(int(a[i]))\n",
    "        sum[i]=a[i]\n",
    "    else:\n",
    "        sum.append(int(sum([i-1])+int(a[i])\n",
    "# print(sum(n[0]-1))\n",
    "# read each query and calculate the average\n",
    "del a\n",
    "for k in range(0, n[1]):\n",
    "    inq = input().split()                  \n",
    "    i = int(inq[0])\n",
    "    j = int(inq[1])\n",
    "    if i > 1:\n",
    "    \n",
    "        print(sum[j-1]-sum[i-2])//(j-1+1)\n",
    "    else:\n",
    "        print(sum[j-1]//(j-1+1))\n",
    "                       \n",
    "                       "
   ]
  },
  {
   "cell_type": "code",
   "execution_count": 3,
   "metadata": {},
   "outputs": [
    {
     "data": {
      "text/plain": [
       "True"
      ]
     },
     "execution_count": 3,
     "metadata": {},
     "output_type": "execute_result"
    }
   ],
   "source": [
    "# Function to determine if a number is special or not \n",
    "def isspecialnum(n, p):\n",
    "    if numofprimefactors(n) >= p:\n",
    "        return True\n",
    "    return False\n",
    "    \n",
    "# Function to check if number is prime\n",
    "def isPrime(n):\n",
    "    if n == 2:\n",
    "        return True\n",
    "    for i in range(2, n):\n",
    "        if n % i == 0:\n",
    "            return False\n",
    "    return True\n",
    "#isPrime(3)\n",
    "# Function to determine number of  prime factors for a given number\n",
    "def numofprimefactors(n):\n",
    "    if isPrime(n):\n",
    "        return 1\n",
    "    count = 0\n",
    "    for i in range(2, n//2+1):\n",
    "        if isPrime(i) and n % i == 0:\n",
    "            count += 1\n",
    "    return count \n",
    "# numofprimefactors(6, 2) \n",
    "def solution():\n",
    "    p=int(input())\n",
    "    t=int(input())\n",
    "    for i in range(0, t):\n",
    "        n=int(input())\n",
    "        if isspecialnum(n):\n",
    "            print(\"YES\")\n",
    "        else:\n",
    "            print(\"NO\")\n",
    "isspecialnum(6, 2)\n"
   ]
  },
  {
   "cell_type": "markdown",
   "metadata": {},
   "source": [
    "### Problem: Highest Remainder\n",
    "-write a program to find a natural that is smaller than \n",
    "-N such that N gives highest remainder when divided by that number.\n",
    "\n",
    "N\n",
    "highest = 0\n",
    "x < N and n % x == highest\n",
    "30\n",
    "1\n",
    "2\n",
    "3\n",
    "4\n",
    "5\n",
    "6\n",
    "\n",
    "16 14\n",
    "15 0\n",
    "\n",
    "9\n",
    "8 1\n",
    "7 2\n",
    "6 3\n",
    "5 4\n",
    "4 1\n",
    "3 0\n",
    "2 4"
   ]
  },
  {
   "cell_type": "code",
   "execution_count": 22,
   "metadata": {},
   "outputs": [
    {
     "name": "stdout",
     "output_type": "stream",
     "text": [
      "4\n"
     ]
    }
   ],
   "source": [
    "def highestRemainder(n):\n",
    "    hr = 0\n",
    "    v = 0\n",
    "    for i in range(n-1, n//2+1,-1):\n",
    "        r = n % i\n",
    "        if r > hr:\n",
    "            hr = r\n",
    "            v = i\n",
    "    print(v)\n",
    "    return \n",
    "highestRemainder(5)"
   ]
  },
  {
   "cell_type": "markdown",
   "metadata": {},
   "source": [
    "### Tuples \n",
    "tuple=()\n",
    "list=[]\n",
    "- Difference between lists and tuples\n",
    "   - Lists are mutable - can be changed / modified\n",
    "       - Used to access, modify, add, delete data \n",
    "   \n",
    "   - Tuples are immutable - cannot be changed once initialised\n",
    "       - Used to access data only\n",
    "       - All Slicing work"
   ]
  },
  {
   "cell_type": "code",
   "execution_count": 3,
   "metadata": {},
   "outputs": [
    {
     "data": {
      "text/plain": [
       "(8, 6, 0)"
      ]
     },
     "execution_count": 3,
     "metadata": {},
     "output_type": "execute_result"
    }
   ],
   "source": [
    "t1=(1,2,8,6,0)\n",
    "t1[2] # Accessing the fourth element\n",
    "\n",
    "t1[len(t1)//2:len(t1)] # Accessing all elements from middle to last"
   ]
  },
  {
   "cell_type": "markdown",
   "metadata": {},
   "source": [
    "### Dictionaries\n",
    " - It works on the concept of set\n",
    " - Unique Data(keys)\n",
    " - keys, values\n",
    " - Key is the unique identifier for a value\n",
    " - Value is data that can be accessed with a key\n",
    " - Syntax: variable_name={}\n"
   ]
  },
  {
   "cell_type": "code",
   "execution_count": 13,
   "metadata": {},
   "outputs": [
    {
     "data": {
      "text/plain": [
       "False"
      ]
     },
     "execution_count": 13,
     "metadata": {},
     "output_type": "execute_result"
    }
   ],
   "source": [
    "d1={\"k1\":\"value1\",\"k2\":\"value2\"}\n",
    "d1[\"k2\"] #Accessing the value with key\n",
    "d1.keys() # returns list of all keys\n",
    "d1.values() # returns list of values\n",
    "d1.items() # returns list of tuples of keys and values.\n",
    "d1[\"k3\"]=\"value3\" # updating an element\n",
    "d1.pop(\"k3\") # Removing item\n",
    "\"k3\" in d1"
   ]
  },
  {
   "cell_type": "markdown",
   "metadata": {},
   "source": [
    "### Contacts Application\n",
    "- Add contact\n",
    "- Search for contact\n",
    "- List all contacts\n",
    "   - name1 : phone1\n",
    "   - name2 : phone2\n",
    "- Modify contact\n",
    "- Remove contact\n",
    "- Import contact"
   ]
  },
  {
   "cell_type": "code",
   "execution_count": 18,
   "metadata": {},
   "outputs": [
    {
     "name": "stdout",
     "output_type": "stream",
     "text": [
      "contact sana added\n"
     ]
    }
   ],
   "source": [
    "contacts = {}\n",
    "def addcontact(name, phone):\n",
    "    # verify that the contact doesnot already exist\n",
    "    if name not in contacts:\n",
    "        contacts[name]=phone\n",
    "        print(\"contact %s added\" % name)\n",
    "    else:\n",
    "        print(\"contact %s alreday exists\" % name )\n",
    "    return \n",
    "addcontact(\"sana\", \"9642294614\")\n",
    "#contacts"
   ]
  },
  {
   "cell_type": "code",
   "execution_count": 16,
   "metadata": {},
   "outputs": [
    {
     "name": "stdout",
     "output_type": "stream",
     "text": [
      "sana : 9642294614\n"
     ]
    }
   ],
   "source": [
    "def searchcontacts(name):\n",
    "    if name in contacts:\n",
    "        print(name, \":\", contacts[name])\n",
    "    else:\n",
    "        print(\"%s does not exist\" % name)\n",
    "    return\n",
    "searchcontacts(\"sana\")"
   ]
  },
  {
   "cell_type": "code",
   "execution_count": 20,
   "metadata": {},
   "outputs": [
    {
     "name": "stdout",
     "output_type": "stream",
     "text": [
      "sana : 9642294614\n",
      "sudha : 7036605702\n",
      "ashok : 8331966682\n"
     ]
    }
   ],
   "source": [
    "contacts={\"sana\":9642294614,\"sudha\":7036605702,\"ashok\":8331966682}\n",
    "def allcontacts(contacts):\n",
    "    for name in contacts:\n",
    "        print(name, \":\", contacts[name])\n",
    "allcontacts(contacts)"
   ]
  },
  {
   "cell_type": "code",
   "execution_count": 24,
   "metadata": {},
   "outputs": [
    {
     "name": "stdout",
     "output_type": "stream",
     "text": [
      "sana is modified\n"
     ]
    },
    {
     "data": {
      "text/plain": [
       "{'sana': 76576578765,\n",
       " 'sudha': 7036605702,\n",
       " 'ashok': 8331966682,\n",
       " 'honey': 9896568766,\n",
       " 'anil': 86764535435}"
      ]
     },
     "execution_count": 24,
     "metadata": {},
     "output_type": "execute_result"
    }
   ],
   "source": [
    "def update(name, ph):\n",
    "    contacts[name]=ph\n",
    "    print(name,\"is modified\")\n",
    "update(\"sana\",76576578765)\n",
    "contacts\n",
    "    "
   ]
  },
  {
   "cell_type": "code",
   "execution_count": 30,
   "metadata": {},
   "outputs": [
    {
     "name": "stdout",
     "output_type": "stream",
     "text": [
      "anil contact deleted\n"
     ]
    }
   ],
   "source": [
    "def Remove(name):\n",
    "    contacts.pop(name)\n",
    "    print(name, \"contact deleted\")\n",
    "Remove(\"anil\")"
   ]
  },
  {
   "cell_type": "code",
   "execution_count": 22,
   "metadata": {},
   "outputs": [
    {
     "name": "stdout",
     "output_type": "stream",
     "text": [
      "2 added successfully\n"
     ]
    }
   ],
   "source": [
    "# new contacts is given as a dictionary\n",
    "# merge new contacts with existing contacts \n",
    "def importcontacts(newcontacts):\n",
    "    contacts.update(newcontacts)\n",
    "    print(len(newcontacts.keys()), \"added successfully\")\n",
    "    return\n",
    "newcontacts={\"honey\":9896568766,\"anil\":86764535435}\n",
    "importcontacts(newcontacts)\n"
   ]
  },
  {
   "cell_type": "code",
   "execution_count": 1,
   "metadata": {},
   "outputs": [],
   "source": [
    "### Packages and Modules"
   ]
  },
  {
   "cell_type": "code",
   "execution_count": 13,
   "metadata": {},
   "outputs": [
    {
     "data": {
      "text/plain": [
       "235"
      ]
     },
     "execution_count": 13,
     "metadata": {},
     "output_type": "execute_result"
    }
   ],
   "source": [
    "import math\n",
    "math.floor(234.567)\n",
    "math.pi # it returns the pi value\n",
    "math.ceil(234.100)"
   ]
  },
  {
   "cell_type": "code",
   "execution_count": 3,
   "metadata": {},
   "outputs": [
    {
     "data": {
      "text/plain": [
       "234"
      ]
     },
     "execution_count": 3,
     "metadata": {},
     "output_type": "execute_result"
    }
   ],
   "source": [
    "from math import floor as f1\n",
    "f1(234.567)"
   ]
  },
  {
   "cell_type": "code",
   "execution_count": 14,
   "metadata": {},
   "outputs": [
    {
     "name": "stdout",
     "output_type": "stream",
     "text": [
      "97 95 80 36 70 47 34 4 26 9 "
     ]
    }
   ],
   "source": [
    "# Function to generate N random numbers\n",
    "import random\n",
    "def generateNrandomnumbers(n, lb, ub):\n",
    "    for i in range(0, n):\n",
    "        print(random.randint(lb, ub), end=\" \")\n",
    "        \n",
    "generateNrandomnumbers(10, 0, 100)"
   ]
  },
  {
   "cell_type": "code",
   "execution_count": 8,
   "metadata": {},
   "outputs": [
    {
     "data": {
      "text/plain": [
       "120"
      ]
     },
     "execution_count": 8,
     "metadata": {},
     "output_type": "execute_result"
    }
   ],
   "source": [
    "math.factorial(5)"
   ]
  },
  {
   "cell_type": "code",
   "execution_count": 13,
   "metadata": {},
   "outputs": [
    {
     "data": {
      "text/plain": [
       "False"
      ]
     },
     "execution_count": 13,
     "metadata": {},
     "output_type": "execute_result"
    }
   ],
   "source": [
    "from Packages import numerical \n",
    "numerical.numofprimefactors(1000)\n",
    "numerical.isPrime(103)\n",
    "isPrime(105)"
   ]
  },
  {
   "cell_type": "code",
   "execution_count": null,
   "metadata": {},
   "outputs": [],
   "source": []
  }
 ],
 "metadata": {
  "kernelspec": {
   "display_name": "Python 3",
   "language": "python",
   "name": "python3"
  },
  "language_info": {
   "codemirror_mode": {
    "name": "ipython",
    "version": 3
   },
   "file_extension": ".py",
   "mimetype": "text/x-python",
   "name": "python",
   "nbconvert_exporter": "python",
   "pygments_lexer": "ipython3",
   "version": "3.7.3"
  }
 },
 "nbformat": 4,
 "nbformat_minor": 2
}
