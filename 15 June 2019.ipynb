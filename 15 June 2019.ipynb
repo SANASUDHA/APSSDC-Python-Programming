{
 "cells": [
  {
   "cell_type": "markdown",
   "metadata": {},
   "source": [
    "#### Problem - ClosestZero"
   ]
  },
  {
   "cell_type": "markdown",
   "metadata": {},
   "source": [
    "######  You have been an integer array A of size there are multiple elements, print the number of\n",
    "#input format:\n",
    "#1.The first line containsingle integer N\n",
    "#2.The next line contain N space separated integer\n",
    "#### Explanation:\n",
    "    - li = [3, 2, -1, -2, -3] (original list)\n",
    "    - sort the data\n",
    "    - li=[-3, -2, -1, 2, 3](sorted list)\n",
    "    -pl=[1, 2, 2, 3, 3](positive sorted list)\n",
    "    -pl[0]-> checkm if this number is -ve or +ve in the list\n",
    "\n",
    "- if pl[0] in li:\n",
    "    -return pl[0]\n",
    "- else:\n",
    "    -return -pl[0]"
   ]
  },
  {
   "cell_type": "code",
   "execution_count": 15,
   "metadata": {},
   "outputs": [
    {
     "name": "stdout",
     "output_type": "stream",
     "text": [
      "1\n"
     ]
    }
   ],
   "source": [
    "li=[-1, -2, 2, 3, 1]\n",
    "li.sort()\n",
    "pl = []\n",
    "for i in li:\n",
    "    pl.append(abs(i))\n",
    "pl.sort()\n",
    "if pl[0] in li:\n",
    "    print(pl[0])\n",
    "else:\n",
    "    print(-pl[0])"
   ]
  },
  {
   "cell_type": "code",
   "execution_count": 25,
   "metadata": {},
   "outputs": [],
   "source": [
    "# Problem - 3\n",
    "#You are given three numbers, a, b and c. write a program to find the largest number \n",
    "#which is less than or equal to c and leaves reminder b when divided by a.\n",
    "# 3 2 9\n",
    "# 9%3==0\n",
    "# 8%3==2\n",
    "\n",
    "# 1 2 4\n",
    "# 4%1==0\n",
    "#3%1==0\n",
    "#2%1==0\n",
    "#1%1==0%1=0\n",
    "#0%1==0\n",
    "#-1%1==0\n"
   ]
  },
  {
   "cell_type": "code",
   "execution_count": 34,
   "metadata": {},
   "outputs": [
    {
     "data": {
      "text/plain": [
       "98"
      ]
     },
     "execution_count": 34,
     "metadata": {},
     "output_type": "execute_result"
    }
   ],
   "source": [
    "def cal(a, b, c):\n",
    "    for i in range(c, a-1, -1):\n",
    "        if i % a == b:\n",
    "            return i\n",
    "    return -1\n",
    "cal(3, 2, 100)"
   ]
  },
  {
   "cell_type": "code",
   "execution_count": null,
   "metadata": {},
   "outputs": [],
   "source": []
  },
  {
   "cell_type": "code",
   "execution_count": null,
   "metadata": {},
   "outputs": [],
   "source": [
    "# 1.Count Divisors\n",
    "def countdivisors(i, j, k):\n",
    "    count=0\n",
    "    for n in range(i, j+1):\n",
    "        if n % k ==0:\n",
    "            count +=1\n",
    "    print(count)\n",
    "    return \n",
    "\n",
    "s=input()\n",
    "s=s.split()\n",
    "#for n in s:\n",
    "i = int(s[0])\n",
    "j = int(s[1])\n",
    "k=int(s[2])\n",
    "countdivisors(i, j, k)"
   ]
  },
  {
   "cell_type": "code",
   "execution_count": null,
   "metadata": {},
   "outputs": [],
   "source": [
    "#2. Factorial\n",
    "def factorial(n):\n",
    "    f=1\n",
    "    for i in range(1, n+1):\n",
    "        f=f*i\n",
    "    print(f)\n",
    "n=int(input())\n",
    "factorial(n)\n"
   ]
  },
  {
   "cell_type": "code",
   "execution_count": null,
   "metadata": {},
   "outputs": [],
   "source": [
    "#3. Toggle Settings\n",
    "def toggle(s):\n",
    "    p=s.swapcase()\n",
    "    print(p)\n",
    "l=input()\n",
    "toggle(l)"
   ]
  },
  {
   "cell_type": "code",
   "execution_count": null,
   "metadata": {},
   "outputs": [],
   "source": [
    "#4. Palindrome\n",
    "def palindrome(s):\n",
    "    if s==s[::-1]:\n",
    "        print(\"YES\")\n",
    "    else:\n",
    "        print(\"NO\")\n",
    "s=input()\n",
    "\n",
    "palindrome(s)"
   ]
  },
  {
   "cell_type": "code",
   "execution_count": null,
   "metadata": {},
   "outputs": [],
   "source": [
    "#5. Two Strings\n",
    "n=int(input())\n",
    "for i in range(1,n+1):\n",
    "    s=input().split()\n",
    "    str1=s[0]\n",
    "    str2=s[1]\n",
    "    if sorted(str1)==sorted(str2):\n",
    "        print(\"YES\")\n",
    "    else:\n",
    "        print(\"NO\")"
   ]
  },
  {
   "cell_type": "code",
   "execution_count": null,
   "metadata": {},
   "outputs": [],
   "source": [
    "#6. N Prime numbers\n",
    "x =int(input())\n",
    "for i in range (1, (x+1), 1):\n",
    "    c=0\n",
    "    for j in range (1, (i+1), 1):\n",
    "        if (i%j==0):\n",
    "            c = c+1\n",
    "\n",
    "    if (c==2):\n",
    "          print (i, end=\" \")"
   ]
  },
  {
   "cell_type": "code",
   "execution_count": null,
   "metadata": {},
   "outputs": [],
   "source": [
    "# 7.Char Sum\n",
    "def strScore(s):  \n",
    "    score = 0\n",
    "    for i in range(len(s)):\n",
    "        score=score+(ord(s[i])-96)\n",
    "    return score\n",
    "s=input()\n",
    "print(strScore(s))"
   ]
  },
  {
   "cell_type": "code",
   "execution_count": null,
   "metadata": {},
   "outputs": [],
   "source": [
    "# Duration"
   ]
  }
 ],
 "metadata": {
  "kernelspec": {
   "display_name": "Python 3",
   "language": "python",
   "name": "python3"
  },
  "language_info": {
   "codemirror_mode": {
    "name": "ipython",
    "version": 3
   },
   "file_extension": ".py",
   "mimetype": "text/x-python",
   "name": "python",
   "nbconvert_exporter": "python",
   "pygments_lexer": "ipython3",
   "version": "3.7.3"
  }
 },
 "nbformat": 4,
 "nbformat_minor": 2
}
