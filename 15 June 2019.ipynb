{
 "cells": [
  {
   "cell_type": "markdown",
   "metadata": {},
   "source": [
    "#### Problem - ClosestZero"
   ]
  },
  {
   "cell_type": "markdown",
   "metadata": {},
   "source": [
    "######  You have been an integer array A of size there are multiple elements, print the number of\n",
    "#input format:\n",
    "#1.The first line containsingle integer N\n",
    "#2.The next line contain N space separated integer\n",
    "#### Explanation:\n",
    "    - li = [3, 2, -1, -2, -3] (original list)\n",
    "    - sort the data\n",
    "    - li=[-3, -2, -1, 2, 3](sorted list)\n",
    "    -pl=[1, 2, 2, 3, 3](positive sorted list)\n",
    "    -pl[0]-> checkm if this number is -ve or +ve in the list\n",
    "\n",
    "- if pl[0] in li:\n",
    "    -return pl[0]\n",
    "- else:\n",
    "    -return -pl[0]"
   ]
  },
  {
   "cell_type": "code",
   "execution_count": 15,
   "metadata": {},
   "outputs": [
    {
     "name": "stdout",
     "output_type": "stream",
     "text": [
      "1\n"
     ]
    }
   ],
   "source": [
    "li=[-1, -2, 2, 3, 1]\n",
    "li.sort()\n",
    "pl = []\n",
    "for i in li:\n",
    "    pl.append(abs(i))\n",
    "pl.sort()\n",
    "if pl[0] in li:\n",
    "    print(pl[0])\n",
    "else:\n",
    "    print(-pl[0])"
   ]
  },
  {
   "cell_type": "code",
   "execution_count": 25,
   "metadata": {},
   "outputs": [],
   "source": [
    "# Problem - 3\n",
    "#You are given three numbers, a, b and c. write a program to find the largest number \n",
    "#which is less than or equal to c and leaves reminder b when divided by a.\n",
    "# 3 2 9\n",
    "# 9%3==0\n",
    "# 8%3==2\n",
    "\n",
    "# 1 2 4\n",
    "# 4%1==0\n",
    "#3%1==0\n",
    "#2%1==0\n",
    "#1%1==0%1=0\n",
    "#0%1==0\n",
    "#-1%1==0\n"
   ]
  },
  {
   "cell_type": "code",
   "execution_count": 34,
   "metadata": {},
   "outputs": [
    {
     "data": {
      "text/plain": [
       "98"
      ]
     },
     "execution_count": 34,
     "metadata": {},
     "output_type": "execute_result"
    }
   ],
   "source": [
    "def cal(a, b, c):\n",
    "    for i in range(c, a-1, -1):\n",
    "        if i % a == b:\n",
    "            return i\n",
    "    return -1\n",
    "cal(3, 2, 100)"
   ]
  },
  {
   "cell_type": "markdown",
   "metadata": {},
   "source": [
    "### Count Divisors"
   ]
  },
  {
   "cell_type": "code",
   "execution_count": 1,
   "metadata": {},
   "outputs": [
    {
     "name": "stdout",
     "output_type": "stream",
     "text": [
      "10\n"
     ]
    }
   ],
   "source": [
    "# 1.Count Divisors\n",
    "s=[1, 10, 1]\n",
    "def countdivisors(i, j, k):\n",
    "    count=0\n",
    "    for n in range(i, j+1):\n",
    "        if n % k ==0:\n",
    "            count +=1\n",
    "    print(count)\n",
    "    return \n",
    "\n",
    "#s=input()\n",
    "#s=s.split()\n",
    "#for n in s:\n",
    "i = int(s[0])\n",
    "j = int(s[1])\n",
    "k=int(s[2])\n",
    "countdivisors(i, j, k)"
   ]
  },
  {
   "cell_type": "markdown",
   "metadata": {},
   "source": [
    "### Factorial"
   ]
  },
  {
   "cell_type": "code",
   "execution_count": 3,
   "metadata": {},
   "outputs": [
    {
     "name": "stdout",
     "output_type": "stream",
     "text": [
      "5\n",
      "120\n"
     ]
    }
   ],
   "source": [
    "#2. Factorial\n",
    "def factorial(n):\n",
    "    f=1\n",
    "    for i in range(1, n+1):\n",
    "        f=f*i\n",
    "    print(f)\n",
    "n=int(input())\n",
    "factorial(n)\n"
   ]
  },
  {
   "cell_type": "markdown",
   "metadata": {},
   "source": [
    "### Toggle Settings"
   ]
  },
  {
   "cell_type": "code",
   "execution_count": 5,
   "metadata": {},
   "outputs": [
    {
     "name": "stdout",
     "output_type": "stream",
     "text": [
      "\"AppLe\"\n",
      "\"aPPlE\"\n"
     ]
    }
   ],
   "source": [
    "#3. Toggle Settings\n",
    "def toggle(s):\n",
    "    p=s.swapcase()\n",
    "    print(p)\n",
    "l=input()\n",
    "toggle(l)"
   ]
  },
  {
   "cell_type": "markdown",
   "metadata": {},
   "source": [
    "### Palindrome"
   ]
  },
  {
   "cell_type": "code",
   "execution_count": 7,
   "metadata": {},
   "outputs": [
    {
     "name": "stdout",
     "output_type": "stream",
     "text": [
      "\"SANA\"\n",
      "NO\n"
     ]
    }
   ],
   "source": [
    "#4. Palindrome\n",
    "def palindrome(s):\n",
    "    if s==s[::-1]:\n",
    "        print(\"YES\")\n",
    "    else:\n",
    "        print(\"NO\")\n",
    "s=input()\n",
    "\n",
    "palindrome(s)"
   ]
  },
  {
   "cell_type": "markdown",
   "metadata": {},
   "source": [
    "### Two Strings"
   ]
  },
  {
   "cell_type": "code",
   "execution_count": 11,
   "metadata": {},
   "outputs": [
    {
     "name": "stdout",
     "output_type": "stream",
     "text": [
      "3\n",
      "\"sudha suhda\"\n",
      "YES\n",
      "\"sana ansa\"\n",
      "YES\n",
      "\"sana sudha\"\n",
      "NO\n"
     ]
    }
   ],
   "source": [
    "#5. Two Strings\n",
    "n=int(input())\n",
    "for i in range(1,n+1):\n",
    "    s=input().split()\n",
    "    str1=s[0]\n",
    "    str2=s[1]\n",
    "    if sorted(str1)==sorted(str2):\n",
    "        print(\"YES\")\n",
    "    else:\n",
    "        print(\"NO\")"
   ]
  },
  {
   "cell_type": "markdown",
   "metadata": {},
   "source": [
    "### N Prime numbers"
   ]
  },
  {
   "cell_type": "code",
   "execution_count": 12,
   "metadata": {},
   "outputs": [
    {
     "name": "stdout",
     "output_type": "stream",
     "text": [
      "9\n",
      "2 3 5 7 "
     ]
    }
   ],
   "source": [
    "#6. N Prime numbers\n",
    "x =int(input())\n",
    "for i in range (1, (x+1), 1):\n",
    "    c=0\n",
    "    for j in range (1, (i+1), 1):\n",
    "        if (i%j==0):\n",
    "            c = c+1\n",
    "\n",
    "    if (c==2):\n",
    "          print (i, end=\" \")"
   ]
  },
  {
   "cell_type": "markdown",
   "metadata": {},
   "source": [
    "### Char Sum"
   ]
  },
  {
   "cell_type": "code",
   "execution_count": 13,
   "metadata": {},
   "outputs": [
    {
     "name": "stdout",
     "output_type": "stream",
     "text": [
      "aba\n",
      "4\n"
     ]
    }
   ],
   "source": [
    "# 7.Char Sum\n",
    "def strScore(s):  \n",
    "    score = 0\n",
    "    for i in range(len(s)):\n",
    "        score=score+(ord(s[i])-96)\n",
    "    return score\n",
    "s=input()\n",
    "print(strScore(s))"
   ]
  },
  {
   "cell_type": "markdown",
   "metadata": {},
   "source": [
    "### Duration"
   ]
  },
  {
   "cell_type": "code",
   "execution_count": 1,
   "metadata": {},
   "outputs": [
    {
     "name": "stdout",
     "output_type": "stream",
     "text": [
      "0 30\n"
     ]
    }
   ],
   "source": [
    "# Duration\n",
    "s=\"1 44 2 14\"\n",
    "def minuteDifference(s):\n",
    "    s = s.split()\n",
    "    sh = int(s[0])\n",
    "    sm = int(s[1])\n",
    "    eh = int(s[2])\n",
    "    em = int(s[3])\n",
    "    startminutes=(sh*60)+sm\n",
    "    endminutes = (eh*60)+em\n",
    "    return  endminutes - startminutes\n",
    "\n",
    "def outputTimeformat(minutes):\n",
    "    # convert minutes in to HH MM\n",
    "    hh = minutes // 60\n",
    "    mm = minutes % 60\n",
    "    print(hh, mm)\n",
    "    return\n",
    "minutes = minuteDifference(s)\n",
    "outputTimeformat(minutes)"
   ]
  },
  {
   "cell_type": "markdown",
   "metadata": {},
   "source": [
    "### Play with numbers"
   ]
  },
  {
   "cell_type": "code",
   "execution_count": 16,
   "metadata": {},
   "outputs": [
    {
     "name": "stdout",
     "output_type": "stream",
     "text": [
      "5 3\n",
      "1 2 3 4 5\n",
      "1 3\n",
      "2\n",
      "2 4\n",
      "3\n",
      "2 5\n",
      "3\n"
     ]
    }
   ],
   "source": [
    "n,k=[int(x) for x in input().split()]\n",
    "l=[int(x) for x in input().split()]\n",
    "sa=[]\n",
    "s=0\n",
    "for i in range(len(l)):\n",
    "    s=s+l[i]\n",
    "    sa.append(s)\n",
    "#print(sa)\n",
    "for j in range(k):\n",
    "    x,y=[int(x) for x in input().split()]\n",
    "    count=(y-x)+1\n",
    "    #print(count)\n",
    "    if(x==1):\n",
    "        print((sa[y-1])//count)\n",
    "    else:\n",
    "        #print(sa[y-1]-sa[x-1])\n",
    "        print((sa[y-1]-sa[x-2])//count)"
   ]
  },
  {
   "cell_type": "code",
   "execution_count": 17,
   "metadata": {},
   "outputs": [
    {
     "name": "stdout",
     "output_type": "stream",
     "text": [
      "5 3\n",
      "1 2 3 4 5\n",
      "1 3\n",
      "2\n",
      "2 4\n",
      "3\n",
      "2 5\n",
      "3\n"
     ]
    }
   ],
   "source": [
    "# Play with numbers (second method)\n",
    "a,b=map(int,input().split())\n",
    "n=list(map(int,input().split()))\n",
    "e=[]\n",
    "f=0\n",
    "for i in range(0,a):\n",
    "    f+=n[i]\n",
    "    e.append(f)\n",
    "#print(e)\n",
    "for j in range(1,b+1):\n",
    "    c,d=map(int,input().split())\n",
    "    if c==1:\n",
    "        print(e[d-1]//(d-c+1))\n",
    "    else:\n",
    "        print((e[d-1]-e[c-2])//(d-c+1))"
   ]
  },
  {
   "cell_type": "code",
   "execution_count": null,
   "metadata": {},
   "outputs": [],
   "source": []
  }
 ],
 "metadata": {
  "kernelspec": {
   "display_name": "Python 3",
   "language": "python",
   "name": "python3"
  },
  "language_info": {
   "codemirror_mode": {
    "name": "ipython",
    "version": 3
   },
   "file_extension": ".py",
   "mimetype": "text/x-python",
   "name": "python",
   "nbconvert_exporter": "python",
   "pygments_lexer": "ipython3",
   "version": "3.7.3"
  }
 },
 "nbformat": 4,
 "nbformat_minor": 2
}
