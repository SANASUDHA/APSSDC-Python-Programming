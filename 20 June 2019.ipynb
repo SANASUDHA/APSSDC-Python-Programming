{
 "cells": [
  {
   "cell_type": "markdown",
   "metadata": {},
   "source": [
    "##### Regular Expressions\n",
    "\n",
    " - Pattern Matching\n",
    " - Symbolic Notation of a pattern\n",
    "     - Pattern : Format which repeats\n",
    "     - Pattern(RE) represents The set of all values that match a pattern \n",
    " - [0-9]  -> Any digit\n",
    " - [a-z]  -> Any lower case alphabet\n",
    " - [2468] -> All single digit multiple of 2\n",
    " - ^[0-9]{1}$ -> Only single digit numbers\n",
    " \n",
    " - ^[0-9]{3}$  -> only 3 digit numbers\n",
    "        \n",
    " - [0-9]*0$   -> All multiple of 10\n",
    " \n",
    " - ^[1-9][0-9]*[05]$ -> All multiples of 5\n",
    " \n",
    "  - [1-9][0-9]{9}$   -> All 10 digit numbers\n",
    " \n",
    "  - ^[6-9][0-9]{9}$|^[0][6-9][0-9]{9}$ -> Validating phone numbers[india](start with 9876)\n",
    "  - ^[a-z0-9][a-z0-9_.]{4,13}[a-z0-9][@][a-z0-9]{3,18}[.][a-z]{2,4}$-> Email Validation (username@domain.extension)\n",
    "  \n",
    "      - Username\n",
    "          - Length of username : [6, 15]\n",
    "          - No special characters other than _.\n",
    "          - should not begin and with _.\n",
    "          - character set : all digits and lower case alphabet \n",
    "         \n",
    "      - domain\n",
    "          - Length of domain : [3,18]\n",
    "          - Character set : all digits and lower case alphabet\n",
    "          \n",
    "      - extension\n",
    "          - Length of extension : [2, 4]\n",
    "          - No special characters\n",
    "          - character set : alphabet\n",
    "\n",
    " - Google search for regular expression : https://docs.python.org/3/library/re.html\n",
    " - online execution :  https://regex101.com/\n",
    " - ^[a]...[z]$ -> Any string of length 5 that start with 'a' and ends with 'z'\n",
    " - ^[a].*[z]$ -> any string of any lenth that start with a and ends with z\n",
    " \n",
    "          \n",
    " "
   ]
  },
  {
   "cell_type": "code",
   "execution_count": 24,
   "metadata": {},
   "outputs": [
    {
     "data": {
      "text/plain": [
       "True"
      ]
     },
     "execution_count": 24,
     "metadata": {},
     "output_type": "execute_result"
    }
   ],
   "source": [
    "# Function to validate a phone number in python\n",
    "import re\n",
    "def phoneNumValidator(number):\n",
    "    pattern=\"^[6-9][0-9]{9}$|^[0][6-9][0-9]{9}$\"\n",
    "    if re.match(pattern,str(number)):\n",
    "        #print(\"Validnumber\")\n",
    "        return True\n",
    "    else:\n",
    "        #print(\"Invalid\")\n",
    "        return False\n",
    "phoneNumValidator(8642294614)"
   ]
  },
  {
   "cell_type": "code",
   "execution_count": 20,
   "metadata": {},
   "outputs": [
    {
     "name": "stdout",
     "output_type": "stream",
     "text": [
      "Validnumber\n",
      "Validnumber\n",
      "phone number %s invalid\n"
     ]
    }
   ],
   "source": [
    "contacts = {}\n",
    "def addcontact(name, phone):\n",
    "    # verify that the contact doesnot already exist\n",
    "    if name not in contacts and phoneNumValidator(phone):\n",
    "        contacts[name]=phone\n",
    "        print(\"contact %s added\" % name)\n",
    "    #if not in contacts:\n",
    "        #print(\"contact %s already exist\" % name)\n",
    "    if not phoneNumValidator(phone):\n",
    "        print(\"phone number %s invalid\")\n",
    "    return \n",
    "addcontact(\"sana\", \"9642294614\")"
   ]
  },
  {
   "cell_type": "code",
   "execution_count": 25,
   "metadata": {},
   "outputs": [
    {
     "data": {
      "text/plain": [
       "True"
      ]
     },
     "execution_count": 25,
     "metadata": {},
     "output_type": "execute_result"
    }
   ],
   "source": [
    "# Function to validate a email in python\n",
    "import re\n",
    "def emailValidator(email):\n",
    "    pattern=\"^[a-z0-9][a-z0-9_.]{4,13}[a-z0-9][@][a-z0-9]{3,18}[.][a-z]{2,4}$\"\n",
    "    if re.match(pattern,email):\n",
    "        return True\n",
    "    return False\n",
    "emailValidator(\"re_12345@gmail.com\")"
   ]
  },
  {
   "cell_type": "code",
   "execution_count": null,
   "metadata": {},
   "outputs": [],
   "source": [
    "contacts = {\"name1\":[9642294614, 'sana2@domain.ext'], \"name2\" :[8675432236, 'sudha@domain.ext']}"
   ]
  },
  {
   "cell_type": "code",
   "execution_count": 28,
   "metadata": {},
   "outputs": [
    {
     "name": "stdout",
     "output_type": "stream",
     "text": [
      "invalid email\n",
      "san1a added successfully\n"
     ]
    },
    {
     "data": {
      "text/plain": [
       "{'name1': [9642294614, 'sana2@domain.ext'],\n",
       " 'name2': [8675432236, 'sudha@domain.ext'],\n",
       " 'sana': [9642294614, 'sana2@domain.ext'],\n",
       " 'san1a': [9642294614, 'sana2@domain.ext']}"
      ]
     },
     "execution_count": 28,
     "metadata": {},
     "output_type": "execute_result"
    }
   ],
   "source": [
    "\n",
    "def addcontact(name, phone, email):\n",
    "    if name in contacts:\n",
    "        print(name, \"already exist.\")\n",
    "    else:\n",
    "        if not phoneNumValidator(phone):\n",
    "            print(\"invalid phone\")\n",
    "            #return\n",
    "        if not emailValidator(email):\n",
    "            print(\"invalid email\")\n",
    "            #return \n",
    "    newcontact=[]\n",
    "    newcontact.append(phone)\n",
    "    newcontact.append(email)\n",
    "    contacts[name]=newcontact\n",
    "    print(name, \"added successfully\")\n",
    "#return\n",
    "addcontact(\"san1a\", 9642294614, 'sana2@domain.ext')\n",
    "contacts"
   ]
  },
  {
   "cell_type": "code",
   "execution_count": 30,
   "metadata": {},
   "outputs": [
    {
     "name": "stdout",
     "output_type": "stream",
     "text": [
      "sana\n",
      "phone : 9642294614\n",
      "email : sana2@domain.ext\n"
     ]
    }
   ],
   "source": [
    "def searchcontacts(name):\n",
    "    if name in contacts:\n",
    "        print(name)\n",
    "        print(\"phone :\", contacts[name][0])\n",
    "        print(\"email :\", contacts[name][1])\n",
    "    else:\n",
    "        print(\"%s does not exist\" % name)\n",
    "    return\n",
    "searchcontacts(\"sana\")"
   ]
  },
  {
   "cell_type": "code",
   "execution_count": 34,
   "metadata": {},
   "outputs": [
    {
     "name": "stdout",
     "output_type": "stream",
     "text": [
      "1 added successfully\n"
     ]
    },
    {
     "data": {
      "text/plain": [
       "dict_items([('name1', [9642294614, 'sana2@domain.ext']), ('name2', [8675432236, 'sudha@domain.ext']), ('sana', [9642294614, 'sana2@domain.ext']), ('san1a', [9642294614, 'sana2@domain.ext']), ('sudha', [9896568766, 'sudha@gail.com'])])"
      ]
     },
     "execution_count": 34,
     "metadata": {},
     "output_type": "execute_result"
    }
   ],
   "source": [
    "# new contacts is given as a dictionary\n",
    "# merge new contacts with existing contacts \n",
    "def importcontacts(newcontacts):\n",
    "    contacts.update(newcontacts)\n",
    "    print(len(newcontacts.keys()), \"added successfully\")\n",
    "    return\n",
    "newcontacts={\"sudha\":[9896568766, \"sudha@gmail.com\"]}\n",
    "importcontacts(newcontacts)\n",
    "contacts.items()"
   ]
  },
  {
   "cell_type": "code",
   "execution_count": 36,
   "metadata": {
    "scrolled": true
   },
   "outputs": [
    {
     "name": "stdout",
     "output_type": "stream",
     "text": [
      "name1 \n",
      " phone : 9642294614 \n",
      " email : sana2@domain.ext\n",
      "name2 \n",
      " phone : 8675432236 \n",
      " email : sudha@domain.ext\n",
      "sana \n",
      " phone : 9642294614 \n",
      " email : sana2@domain.ext\n",
      "san1a \n",
      " phone : 9642294614 \n",
      " email : sana2@domain.ext\n",
      "sudha \n",
      " phone : 9896568766 \n",
      " email : sudha@gail.com\n"
     ]
    }
   ],
   "source": [
    "# Function to list all contacts\n",
    "def listAllcontacts():\n",
    "    for contact, info in contacts.items():\n",
    "        print(contact, \"\\n\", \"phone :\", info[0], \"\\n\", \"email :\", info[1])\n",
    "    return\n",
    "listAllcontacts()\n",
    "    "
   ]
  },
  {
   "cell_type": "code",
   "execution_count": 19,
   "metadata": {},
   "outputs": [
    {
     "data": {
      "text/plain": [
       "{'name1': [9642294614, 'sana2@domain.ext'],\n",
       " 'name2': [8675432236, 'sudha@domain.ext']}"
      ]
     },
     "execution_count": 19,
     "metadata": {},
     "output_type": "execute_result"
    }
   ],
   "source": [
    "contacts = {\"name1\":[9642294614, 'sana2@domain.ext'], \"name2\" :[8675432236, 'sudha@domain.ext']}\n",
    "contacts"
   ]
  },
  {
   "cell_type": "code",
   "execution_count": 20,
   "metadata": {},
   "outputs": [],
   "source": [
    "# Function to edit contact information\n",
    "def editContact(name, phone, email):\n",
    "    if name in contacts:\n",
    "        contacts[name][0]=phone\n",
    "        contacts[name][1]=email\n",
    "    else:\n",
    "        print(\"name is not define\")\n",
    "editContact(\"name1\",7888766898,\"hjgyhh@gmail.com\")\n",
    "    "
   ]
  },
  {
   "cell_type": "code",
   "execution_count": 21,
   "metadata": {},
   "outputs": [
    {
     "data": {
      "text/plain": [
       "{'name1': [7888766898, 'hjgyhh@gmail.com'],\n",
       " 'name2': [8675432236, 'sudha@domain.ext']}"
      ]
     },
     "execution_count": 21,
     "metadata": {},
     "output_type": "execute_result"
    }
   ],
   "source": [
    "contacts"
   ]
  },
  {
   "cell_type": "markdown",
   "metadata": {},
   "source": [
    "#### File Handling in Python\n",
    " - File : Document containing information residing on the permanent strorage\n",
    " - Types : Text, PDF, CSV, etc\n",
    " - File I/O\n",
    " - Chanelling I/O data to files\n",
    " - Default I/O channels - keyboard/screen\n",
    " - change I/O channel to files for reading and writing\n",
    " - Read a file - input from file\n",
    " - write to a file - output to a file\n",
    " - read/write file - open(filename, mode)\n"
   ]
  },
  {
   "cell_type": "code",
   "execution_count": 59,
   "metadata": {},
   "outputs": [
    {
     "name": "stdout",
     "output_type": "stream",
     "text": [
      "new data\n",
      "new data\n",
      "new data1\n"
     ]
    }
   ],
   "source": [
    "# Function to read a file\n",
    "def readFile(filename):\n",
    "    f=open(filename, 'r')\n",
    "    filedata=f.read()\n",
    "    f.close()\n",
    "    return filedata\n",
    "filename = 'Datafiles/data.txt'\n",
    "filedata=readFile(filename)\n",
    "#for line in filedata.split('\\n'):\n",
    " #   print(line)\n",
    "    \n",
    "def printFileDataLines(filename):\n",
    "    with open(filename, 'r') as f:\n",
    "        for line in f:\n",
    "            print(line, end='')\n",
    "    return\n",
    "#print(readFile(filename)) or\n",
    "printFileDataLines(filename)"
   ]
  },
  {
   "cell_type": "code",
   "execution_count": 2,
   "metadata": {},
   "outputs": [],
   "source": [
    "# Function to write data into a file\n",
    "def writeIntoFile(filename, filedata):\n",
    "    with open(filename, 'w') as f:\n",
    "        f.write(filedata)\n",
    "    return\n",
    "filename = 'Datafiles/data.txt'\n",
    "writeIntoFile(filename, 'new data')\n",
    "    "
   ]
  },
  {
   "cell_type": "code",
   "execution_count": 58,
   "metadata": {},
   "outputs": [],
   "source": [
    "# Function to append data to a file\n",
    "\n",
    "def appendDatatoFile(filename, filedata):\n",
    "    with open(filename, 'a') as f:\n",
    "        f.write(filedata,)\n",
    "    return\n",
    "filename = 'Datafiles/data.txt'\n",
    "appendDatatoFile(filename, 'new data1\\n')\n",
    "    "
   ]
  },
  {
   "cell_type": "code",
   "execution_count": null,
   "metadata": {},
   "outputs": [],
   "source": [
    "c={\"name\":[567865,]}"
   ]
  },
  {
   "cell_type": "code",
   "execution_count": 13,
   "metadata": {
    "scrolled": true
   },
   "outputs": [],
   "source": [
    "def writeIntoFile(filename,name,contact,email):\n",
    "    c=name\n",
    "    #with open(filename, 'a') as f:\n",
    "    f=open(filename, 'a')\n",
    "        f.write(key)\n",
    "        f.write(str(contact))\n",
    "        f.write(email)\n",
    "        \n",
    "    return\n",
    "filename = 'Datafiles/contact.txt'\n",
    "writeIntoFile(filename,\"\\nname2\\n\",9099877890,\"\\nhjgytyud@gmail.com\\n\")"
   ]
  },
  {
   "cell_type": "code",
   "execution_count": 1,
   "metadata": {},
   "outputs": [
    {
     "name": "stdout",
     "output_type": "stream",
     "text": [
      "1\n",
      "1\n",
      "a\n"
     ]
    }
   ],
   "source": [
    "a=0\n",
    "b=7\n",
    "tc=int(input())\n",
    "for i in range(tc):\n",
    "    n=int(input())\n",
    "    cA=abs(a-n)\n",
    "    cB=abs(b-n)\n",
    "    if(cA <= cB):\n",
    "        print(\"a\")\n",
    "        a=n\n",
    "    else:\n",
    "        print(\"b\")\n",
    "        b=n\n",
    "        "
   ]
  },
  {
   "cell_type": "code",
   "execution_count": null,
   "metadata": {},
   "outputs": [],
   "source": []
  },
  {
   "cell_type": "code",
   "execution_count": null,
   "metadata": {},
   "outputs": [],
   "source": []
  },
  {
   "cell_type": "code",
   "execution_count": null,
   "metadata": {},
   "outputs": [],
   "source": []
  }
 ],
 "metadata": {
  "kernelspec": {
   "display_name": "Python 3",
   "language": "python",
   "name": "python3"
  },
  "language_info": {
   "codemirror_mode": {
    "name": "ipython",
    "version": 3
   },
   "file_extension": ".py",
   "mimetype": "text/x-python",
   "name": "python",
   "nbconvert_exporter": "python",
   "pygments_lexer": "ipython3",
   "version": "3.7.3"
  }
 },
 "nbformat": 4,
 "nbformat_minor": 2
}
