{
 "cells": [
  {
   "cell_type": "markdown",
   "metadata": {},
   "source": [
    "# python\n",
    "\n",
    "## Files\n",
    "\n",
    "\n",
    "### File Operastions:\n",
    "\n",
    "#### types\n",
    "\n",
    "- 1.open file\n",
    "- 2.write a file\n",
    "- 3.read a file\n",
    "- 4.append a file\n",
    "- 5.close a file"
   ]
  },
  {
   "cell_type": "code",
   "execution_count": 2,
   "metadata": {},
   "outputs": [
    {
     "name": "stdout",
     "output_type": "stream",
     "text": [
      "hello world\n",
      "welcome to srit college\n",
      "i am from guntur\n"
     ]
    }
   ],
   "source": [
    "print(\"hello world\")\n",
    "print(\"welcome to srit college\")\n",
    "print(\"i am from guntur\")"
   ]
  },
  {
   "cell_type": "code",
   "execution_count": 5,
   "metadata": {},
   "outputs": [
    {
     "name": "stdout",
     "output_type": "stream",
     "text": [
      "enter a number:2222259855\n",
      "2222259855 is odd number\n"
     ]
    }
   ],
   "source": [
    "# find give number is even or odd using functions\n",
    "\n",
    "def evenOdd(n):\n",
    "    if (n%2==0):\n",
    "        print(n,\"is even number\")\n",
    "    else:\n",
    "        print(n,\"is odd number\")\n",
    "n=int(input(\"enter a number:\"))\n",
    "evenOdd(n)"
   ]
  },
  {
   "cell_type": "markdown",
   "metadata": {},
   "source": [
    "### Files operations:\n",
    "#### Create a file:\n",
    "- fh=open(\"filename\",\"mode of file operation\")"
   ]
  },
  {
   "cell_type": "code",
   "execution_count": 2,
   "metadata": {},
   "outputs": [],
   "source": [
    "# write a program to create a file using functions\n",
    "\n",
    "def createFile(filepath):\n",
    "    fh=open(filepath,\"w\")\n",
    "    fh.close()\n",
    "filepath=\"empty.txt\"\n",
    "createFile(filepath)"
   ]
  },
  {
   "cell_type": "code",
   "execution_count": 6,
   "metadata": {},
   "outputs": [],
   "source": [
    "# write a program using function to file add content\n",
    "\n",
    "def writeFile(filepath):\n",
    "    fh=open(filepath,\"w\")\n",
    "    a=\"name:Venkatesh Yekkanti\"\n",
    "    b=\"Address:Guntur\"\n",
    "    c=\"email:venkatesh.y@apssdc.in\"\n",
    "    fh.write(a+\"\\n\"+b+\"\\n\"+c)\n",
    "    fh.close()\n",
    "filepath=\"empty.txt\"\n",
    "writeFile(filepath)"
   ]
  },
  {
   "cell_type": "code",
   "execution_count": 8,
   "metadata": {},
   "outputs": [
    {
     "name": "stdout",
     "output_type": "stream",
     "text": [
      "name:Venkatesh Yekkanti\n",
      "Address:Guntur\n",
      "email:venkatesh.y@apssdc.in\n"
     ]
    }
   ],
   "source": [
    "# write a program read a data from file using functions\n",
    "\n",
    "def readFile(filepath):\n",
    "    fh=open(filepath,\"r\")\n",
    "    a=fh.read()\n",
    "    print(a)\n",
    "    fh.close()\n",
    "readFile(\"empty.txt\")"
   ]
  },
  {
   "cell_type": "code",
   "execution_count": 9,
   "metadata": {},
   "outputs": [],
   "source": [
    "# write a program to file add data to file\n",
    "def appendFile(filepath=\"empty.txt\"):\n",
    "    fh=open(filepath,\"a\")\n",
    "    a=\"contact:9494699851\"\n",
    "    fh.write(\"\\n\"+a)\n",
    "    fh.close()\n",
    "appendFile()\n"
   ]
  },
  {
   "cell_type": "code",
   "execution_count": 29,
   "metadata": {},
   "outputs": [
    {
     "name": "stdout",
     "output_type": "stream",
     "text": [
      "successfully created marks\n"
     ]
    }
   ],
   "source": [
    "# write a program to create a marks list using functions\n",
    "import random\n",
    "def studentMarks(filepath):\n",
    "    fh=open(filepath,\"w\")\n",
    "    for i in range(1,1001):\n",
    "        a=random.randint(0,100)\n",
    "        fh.write(str(a)+\"\\n\")\n",
    "    print(\"successfully created marks\")\n",
    "    fh.close()\n",
    "filepath=\"marks.txt\"\n",
    "studentMarks(filepath)\n"
   ]
  },
  {
   "cell_type": "code",
   "execution_count": 2,
   "metadata": {},
   "outputs": [
    {
     "name": "stdout",
     "output_type": "stream",
     "text": [
      "[92, 32, 40, 24, 77, 89, 94, 67, 43, 11, 51, 69, 4, 14, 77, 57, 42, 81, 33, 19, 36, 10, 58, 83, 61, 14, 56, 7, 26, 38, 85, 88, 91, 91, 33, 0, 5, 56, 80, 99, 44, 12, 44, 81, 97, 28, 87, 57, 80, 52, 15, 75, 100, 0, 82, 75, 13, 31, 93, 29, 22, 15, 37, 68, 57, 64, 4, 42, 71, 62, 46, 75, 70, 30, 61, 7, 91, 43, 50, 49, 56, 72, 95, 74, 77, 55, 41, 90, 7, 99, 52, 12, 58, 93, 58, 96, 27, 44, 97, 51, 90, 4, 72, 47, 65, 59, 20, 18, 95, 92, 16, 92, 54, 46, 61, 88, 66, 23, 80, 27, 95, 88, 43, 97, 16, 60, 29, 65, 69, 21, 63, 68, 19, 79, 43, 8, 13, 94, 94, 71, 50, 43, 17, 77, 27, 40, 3, 47, 46, 16, 61, 61, 64, 70, 25, 67, 68, 75, 11, 91, 9, 57, 29, 23, 73, 16, 31, 30, 89, 84, 38, 77, 38, 62, 40, 28, 99, 92, 98, 74, 20, 89, 17, 1, 64, 44, 9, 24, 53, 70, 0, 78, 28, 22, 98, 72, 78, 17, 79, 10, 18, 17, 0, 30, 32, 4, 69, 38, 37, 6, 49, 98, 82, 18, 69, 69, 93, 40, 14, 33, 100, 94, 80, 95, 15, 7, 43, 68, 94, 30, 100, 7, 98, 11, 71, 99, 44, 30, 75, 42, 46, 36, 88, 68, 37, 77, 44, 20, 86, 47, 36, 82, 45, 51, 55, 8, 53, 51, 6, 12, 67, 9, 75, 41, 41, 33, 42, 98, 17, 86, 64, 97, 3, 75, 76, 79, 15, 33, 35, 5, 88, 38, 97, 7, 15, 85, 58, 60, 74, 48, 86, 23, 73, 9, 8, 37, 51, 54, 85, 92, 33, 99, 0, 52, 85, 35, 31, 70, 19, 35, 49, 47, 34, 93, 32, 89, 54, 20, 88, 9, 88, 14, 10, 49, 84, 28, 3, 40, 18, 80, 30, 32, 50, 59, 53, 39, 37, 22, 23, 7, 1, 17, 82, 42, 32, 16, 68, 27, 25, 37, 38, 71, 70, 88, 17, 35, 56, 88, 67, 37, 80, 47, 10, 23, 84, 49, 64, 41, 95, 61, 22, 29, 44, 10, 69, 6, 24, 22, 96, 65, 47, 23, 96, 95, 36, 30, 7, 38, 48, 59, 13, 73, 43, 10, 54, 39, 88, 80, 64, 27, 81, 90, 45, 99, 80, 31, 15, 1, 90, 3, 65, 56, 57, 28, 34, 63, 90, 39, 77, 91, 14, 10, 45, 84, 52, 1, 87, 93, 89, 25, 6, 68, 22, 13, 81, 28, 84, 56, 64, 45, 48, 17, 13, 88, 34, 92, 68, 8, 77, 70, 24, 9, 62, 51, 98, 57, 54, 42, 17, 65, 14, 8, 66, 48, 42, 44, 59, 97, 40, 65, 55, 98, 19, 77, 31, 74, 73, 10, 71, 4, 95, 8, 76, 69, 60, 4, 67, 99, 25, 30, 41, 42, 86, 72, 8, 7, 57, 43, 91, 8, 5, 10, 88, 3, 73, 91, 33, 96, 19, 2, 33, 47, 36, 98, 60, 1, 66, 64, 83, 56, 38, 90, 18, 25, 12, 67, 46, 44, 60, 36, 96, 2, 96, 99, 51, 80, 7, 81, 42, 50, 59, 51, 65, 49, 73, 89, 7, 8, 51, 35, 30, 56, 58, 17, 44, 88, 12, 80, 62, 7, 67, 33, 78, 51, 35, 77, 8, 82, 99, 56, 100, 59, 59, 98, 24, 30, 22, 23, 48, 38, 41, 50, 88, 18, 76, 89, 65, 11, 50, 53, 76, 99, 50, 68, 97, 47, 7, 74, 42, 87, 64, 30, 53, 26, 40, 84, 41, 90, 38, 61, 9, 51, 91, 40, 35, 49, 82, 20, 96, 71, 46, 99, 52, 63, 75, 66, 93, 62, 35, 14, 40, 98, 0, 2, 19, 23, 28, 51, 46, 70, 14, 64, 71, 95, 35, 6, 28, 27, 73, 74, 25, 17, 76, 27, 53, 56, 83, 3, 11, 96, 18, 38, 97, 99, 8, 70, 83, 61, 88, 69, 16, 16, 70, 63, 64, 12, 51, 100, 69, 7, 89, 84, 31, 93, 62, 25, 5, 9, 52, 1, 28, 36, 20, 32, 7, 52, 45, 32, 97, 64, 68, 97, 83, 16, 81, 48, 12, 56, 79, 79, 44, 35, 60, 23, 53, 59, 60, 15, 0, 61, 13, 6, 67, 32, 97, 81, 44, 34, 38, 98, 9, 45, 68, 38, 8, 21, 4, 18, 35, 92, 19, 12, 19, 50, 26, 59, 24, 85, 100, 98, 100, 99, 49, 87, 80, 56, 70, 40, 59, 97, 87, 70, 8, 91, 94, 30, 66, 77, 38, 26, 16, 27, 88, 88, 99, 24, 54, 26, 91, 5, 47, 53, 96, 71, 63, 87, 27, 66, 59, 76, 55, 39, 30, 40, 59, 54, 80, 95, 47, 96, 92, 82, 73, 63, 13, 66, 90, 14, 30, 45, 38, 99, 63, 84, 76, 91, 64, 76, 50, 15, 90, 82, 11, 88, 6, 60, 82, 90, 34, 8, 79, 60, 43, 17, 45, 39, 56, 65, 41, 75, 4, 61, 56, 13, 65, 48, 8, 4, 81, 18, 40, 45, 90, 83, 28, 46, 74, 89, 8, 18, 89, 48, 19, 67, 88, 1, 4, 0, 17, 58, 51, 21, 39, 89, 100, 43, 57, 71, 94, 32, 29, 85, 35, 100, 59, 98, 83, 22, 21, 29, 51, 3, 81, 75, 54, 28, 35, 64, 80, 58, 60, 76, 32, 44, 46, 50, 76, 69, 75, 62, 25, 19, 44, 24, 66, 68, 76, 73, 40, 23, 42, 14, 78, 30, 23, 12, 16, 18, 56, 25, 7, 72, 32, 67, 10, 41, 26, 18, 84, 14, 16, 0, 28, 11, 6, 84, 23, 59, 23, 62, 62, 80, 27, 28, 11, 28, 81, 10, 42, 1, 60, 25, 70, 88, 6, 31, 24, 36, 86, 34, 99, 25, 74, 77, 97, 1, 93, 9, 67, 37, 80, 83, 19, 42, 63, 81, 57, 41, 88, 9, 52, 33, 60, 66, 100, 94, 13, 36, 3, 64]\n",
      "100\n",
      "0\n",
      "50616\n",
      "10\n",
      "9\n",
      "[100, 99, 98, 97, 96, 95, 94, 93, 92, 91, 90, 89, 88, 87, 86, 85, 84, 83, 82, 81, 80, 79, 78, 77, 76, 75, 74, 73, 72, 71, 70, 69, 68, 67, 66, 65, 64, 63, 62, 61, 60, 59, 58, 57, 56, 55, 54, 53, 52, 51, 50, 49, 48, 47, 46, 45, 44, 43, 42, 41, 40, 39, 38, 37, 36, 35, 34, 33, 32, 31, 30, 29, 28, 27, 26, 25, 24, 23, 22, 21, 20, 19, 18, 17, 16, 15, 14, 13, 12, 11, 10, 9, 8, 7, 6, 5, 4, 3, 2, 1, 0]\n",
      "16\n"
     ]
    }
   ],
   "source": [
    "# Find highest and lowest marks\n",
    "\n",
    "def maxMinMarks(filepath=\"marks.txt\"):\n",
    "    fh=open(filepath,\"r\")\n",
    "    a=fh.read()\n",
    "    b=a.split(\"\\n\")\n",
    "    markslist=[]\n",
    "    for i in b:\n",
    "        if i:\n",
    "            j=int(i)\n",
    "            markslist.append(j)\n",
    "    print(markslist)\n",
    "    print(max(markslist))\n",
    "    print(min(markslist))\n",
    "    print(sum(markslist))\n",
    "    print(markslist.count(max(markslist)))\n",
    "    print(markslist.count(min(markslist)))\n",
    "    unique=[]\n",
    "    for k in markslist:\n",
    "        if k not in unique:\n",
    "            unique.append(k)\n",
    "    unique.sort(reverse=True)\n",
    "    print(unique)\n",
    "    print(markslist.count(unique[1]))\n",
    "maxMinMarks()"
   ]
  },
  {
   "cell_type": "code",
   "execution_count": null,
   "metadata": {},
   "outputs": [],
   "source": []
  },
  {
   "cell_type": "code",
   "execution_count": null,
   "metadata": {},
   "outputs": [],
   "source": []
  },
  {
   "cell_type": "code",
   "execution_count": null,
   "metadata": {},
   "outputs": [],
   "source": []
  },
  {
   "cell_type": "code",
   "execution_count": null,
   "metadata": {},
   "outputs": [],
   "source": []
  },
  {
   "cell_type": "markdown",
   "metadata": {},
   "source": [
    "## Data Structures\n",
    "#### 4 Types\n",
    "- List\n",
    "- Tuples\n",
    "- Sets\n",
    "- Dictionary\n"
   ]
  },
  {
   "cell_type": "markdown",
   "metadata": {},
   "source": [
    "## List"
   ]
  },
  {
   "cell_type": "code",
   "execution_count": 5,
   "metadata": {},
   "outputs": [
    {
     "data": {
      "text/plain": [
       "'sdc'"
      ]
     },
     "execution_count": 5,
     "metadata": {},
     "output_type": "execute_result"
    }
   ],
   "source": [
    "# Creating a list\n",
    "ls=[10,\"sdc\",2.5]\n",
    "type(ls)\n",
    "ls[1]"
   ]
  },
  {
   "cell_type": "code",
   "execution_count": 1,
   "metadata": {},
   "outputs": [
    {
     "name": "stdout",
     "output_type": "stream",
     "text": [
      "6\n",
      "ap\n",
      "srit\n",
      "[5, 6, ['ap', 'sdc'], 10.5, 100]\n",
      "['ap', 'sdc']\n",
      "[5, 6, ['ap', 'sdc'], 10.5, 100, 20]\n",
      "[5, 6, ['ap', 'sdc'], 10.5, 100, 20, [1, 2, 3]]\n",
      "[5, 6, ['ap', 'sdc'], 10.5, 100, 20, [1, 2, 3], 4, 5, 6]\n",
      "['ap', 5, 6, ['ap', 'sdc'], 10.5, 100, 20, [1, 2, 3], 4, 5, 6]\n"
     ]
    }
   ],
   "source": [
    "ls1=[5,6,[\"ap\",\"sdc\"],10.5,\"srit\"]\n",
    "type(ls1)\n",
    "print(ls1[1])\n",
    "print(ls1[2][0])\n",
    "print(ls1[4])\n",
    "ls1[4]=100\n",
    "print(ls1)\n",
    "print(ls1[2])\n",
    "ls1.append(20)\n",
    "print(ls1)\n",
    "ls1.append([1,2,3])\n",
    "print(ls1)\n",
    "ls2=[4,5,6]\n",
    "ls1.extend(ls2)\n",
    "print(ls1)\n",
    "ls1.index(10.5)\n",
    "len(ls1)\n",
    "ls1.count(5)\n",
    "ls1.insert(0,'ap')\n",
    "print(ls1)"
   ]
  },
  {
   "cell_type": "markdown",
   "metadata": {},
   "source": [
    "### List comprehension"
   ]
  },
  {
   "cell_type": "code",
   "execution_count": 4,
   "metadata": {},
   "outputs": [
    {
     "name": "stdout",
     "output_type": "stream",
     "text": [
      "[0, 1, 2, 3, 4, 5, 6, 7, 8, 9, 10]\n"
     ]
    }
   ],
   "source": [
    "lst=[]\n",
    "for i in range(0,11):\n",
    "    lst.append(i)\n",
    "print(lst)"
   ]
  },
  {
   "cell_type": "code",
   "execution_count": 13,
   "metadata": {},
   "outputs": [
    {
     "name": "stdout",
     "output_type": "stream",
     "text": [
      "[1, 3, 5, 7, 9]\n"
     ]
    }
   ],
   "source": [
    "ls1=[]\n",
    "for i in range(0,11):\n",
    "    if i**2=0:\n",
    "        ls1.append(i)\n",
    "print(ls1)\n"
   ]
  },
  {
   "cell_type": "markdown",
   "metadata": {},
   "source": [
    "### List comprehensions\n",
    "- list comprehension is an easy way to define and create lists based on existing list\n",
    "- list comprehension is generally more compact and faster than normal functions and loops for creating list "
   ]
  },
  {
   "cell_type": "code",
   "execution_count": 15,
   "metadata": {},
   "outputs": [
    {
     "name": "stdout",
     "output_type": "stream",
     "text": [
      "[0, 1, 4, 9, 16, 25, 36, 49, 64, 81, 100]\n"
     ]
    }
   ],
   "source": [
    "a=[i**2 for i in range(0,11)]\n",
    "print(a)"
   ]
  },
  {
   "cell_type": "code",
   "execution_count": 16,
   "metadata": {},
   "outputs": [
    {
     "name": "stdout",
     "output_type": "stream",
     "text": [
      "[2, 4, 6, 8, 10, 12, 14, 16, 18, 20, 22, 24, 26, 28, 30, 32, 34, 36, 38, 40, 42, 44, 46, 48, 50, 52, 54, 56, 58, 60, 62, 64, 66, 68, 70, 72, 74, 76, 78, 80, 82, 84, 86, 88, 90, 92, 94, 96, 98, 100]\n"
     ]
    }
   ],
   "source": [
    "a=[i for i in range(1,101) if i%2==0]\n",
    "print(a)"
   ]
  },
  {
   "cell_type": "code",
   "execution_count": 18,
   "metadata": {},
   "outputs": [
    {
     "name": "stdout",
     "output_type": "stream",
     "text": [
      "['a', 'v', 'a', 'c']\n"
     ]
    }
   ],
   "source": [
    "a=[\"apssdc\",\"vijayawada\",\"andhrapradesh\",\"corporation\"]\n",
    "b=[i[0] for i in a]\n",
    "print(b)"
   ]
  },
  {
   "cell_type": "code",
   "execution_count": 19,
   "metadata": {},
   "outputs": [
    {
     "name": "stdout",
     "output_type": "stream",
     "text": [
      "['a', 'b', 'c']\n"
     ]
    }
   ],
   "source": [
    "a=[\"A\",\"B\",\"c\"]\n",
    "b=[i.lower() for i in a]\n",
    "print(b)"
   ]
  },
  {
   "cell_type": "code",
   "execution_count": 21,
   "metadata": {},
   "outputs": [
    {
     "name": "stdout",
     "output_type": "stream",
     "text": [
      "['2', '6', '1', '9', '9', '4', '2', '0', '0', '9']\n"
     ]
    }
   ],
   "source": [
    "s=\"i am venkatesh age is 26 1994 2009\"\n",
    "b=[i for i in s if i.isdigit()]\n",
    "print(b)"
   ]
  },
  {
   "cell_type": "code",
   "execution_count": 25,
   "metadata": {},
   "outputs": [
    {
     "name": "stdout",
     "output_type": "stream",
     "text": [
      "(2, 4, 6, 8, 10)\n"
     ]
    }
   ],
   "source": [
    "a=tuple(i for i in range(1,11) if i%2==0)\n",
    "print(a)"
   ]
  },
  {
   "cell_type": "code",
   "execution_count": 26,
   "metadata": {},
   "outputs": [
    {
     "name": "stdout",
     "output_type": "stream",
     "text": [
      "{1: 1, 2: 4, 3: 9, 4: 16, 5: 25, 6: 36, 7: 49, 8: 64, 9: 81, 10: 100}\n"
     ]
    }
   ],
   "source": [
    "a={i:i**2 for i in range(1,11)}\n",
    "print(a)"
   ]
  },
  {
   "cell_type": "code",
   "execution_count": null,
   "metadata": {},
   "outputs": [],
   "source": []
  }
 ],
 "metadata": {
  "kernelspec": {
   "display_name": "Python 3",
   "language": "python",
   "name": "python3"
  },
  "language_info": {
   "codemirror_mode": {
    "name": "ipython",
    "version": 3
   },
   "file_extension": ".py",
   "mimetype": "text/x-python",
   "name": "python",
   "nbconvert_exporter": "python",
   "pygments_lexer": "ipython3",
   "version": "3.7.3"
  }
 },
 "nbformat": 4,
 "nbformat_minor": 2
}
