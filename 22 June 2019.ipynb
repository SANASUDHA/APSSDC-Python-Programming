{
 "cells": [
  {
   "cell_type": "markdown",
   "metadata": {},
   "source": [
    "### Hacker Earth Problem\n",
    "\n",
    "##### Ladderopillia"
   ]
  },
  {
   "cell_type": "code",
   "execution_count": 15,
   "metadata": {},
   "outputs": [
    {
     "name": "stdout",
     "output_type": "stream",
     "text": [
      "5\n",
      "*   *\n",
      "*   *\n",
      "*****\n",
      "*   *\n",
      "*   *\n",
      "*****\n",
      "*   *\n",
      "*   *\n",
      "*****\n",
      "*   *\n",
      "*   *\n",
      "*****\n",
      "*   *\n",
      "*   *\n",
      "*****\n",
      "*   *\n",
      "*   *\n"
     ]
    }
   ],
   "source": [
    "n=int(input())\n",
    "i=1\n",
    "while(i<n+1):\n",
    "    print(\"*   *\")\n",
    "    print(\"*   *\")\n",
    "    print(\"*****\")\n",
    "    i+=1\n",
    "print(\"*   *\")\n",
    "print(\"*   *\")\n"
   ]
  },
  {
   "cell_type": "markdown",
   "metadata": {},
   "source": [
    "#### Day Objectives\n",
    " - File Handling\n",
    "  - Basic File Data Processing\n",
    "    - Accessing(read) and modifying(write) file data\n",
    "  - Character count\n",
    "  - Line Count\n",
    "  - File Size\n",
    "  - Word count\n",
    "  - unique Word count"
   ]
  },
  {
   "cell_type": "code",
   "execution_count": 2,
   "metadata": {},
   "outputs": [
    {
     "name": "stdout",
     "output_type": "stream",
     "text": [
      "sudhasanarenukadeviashok\n"
     ]
    }
   ],
   "source": [
    "# Read a file  - File should exist(Read Mode)\n",
    "# Write to a file - Existing(append mode) or new file(write mode)\n",
    "def readFile(filepath):\n",
    "    with open(filepath, 'r') as f:\n",
    "        #print(f.write(\"sudhasanarenukadeviashok\"))\n",
    "        print(f.read())\n",
    "        #print(type(f))\n",
    "    #return filedata\n",
    "filepath=\"Datafiles/data.txt\"\n",
    "readFile(filepath)"
   ]
  },
  {
   "cell_type": "code",
   "execution_count": 3,
   "metadata": {},
   "outputs": [
    {
     "name": "stdout",
     "output_type": "stream",
     "text": [
      "sudhasanarenukadeviashok\n"
     ]
    }
   ],
   "source": [
    "def charscount(filepath):\n",
    "    with open(filepath, 'r') as f:\n",
    "        print(f.read())\n",
    "charscount(filepath)"
   ]
  },
  {
   "cell_type": "code",
   "execution_count": 12,
   "metadata": {},
   "outputs": [
    {
     "name": "stdout",
     "output_type": "stream",
     "text": [
      "s\n",
      "3\n"
     ]
    }
   ],
   "source": [
    "# Doubt in this code\n",
    "def charCount(filepath,char):\n",
    "   \n",
    "    with open(filepath,'r') as f:\n",
    "        #c=0\n",
    "        l=f.read()\n",
    "        #for i in l:\n",
    "            #if char==i:\n",
    "            #print(f.count(char))\n",
    "                #c += 1\n",
    "        print(l.count(char))\n",
    "    #print(c)\n",
    "char=input()\n",
    "filepath=\"Datafiles/data.txt\"\n",
    "charCount(filepath,char)\n",
    "            "
   ]
  },
  {
   "cell_type": "code",
   "execution_count": 24,
   "metadata": {},
   "outputs": [
    {
     "data": {
      "text/plain": [
       "1"
      ]
     },
     "execution_count": 24,
     "metadata": {},
     "output_type": "execute_result"
    }
   ],
   "source": [
    "def wordCount(filepath):\n",
    "    with open(filepath,'r') as f:\n",
    "        sum=0\n",
    "        for line in f:\n",
    "            s=line.split()\n",
    "            sum +=len(s)\n",
    "        return sum\n",
    "wordCount(filepath)\n",
    "        "
   ]
  },
  {
   "cell_type": "code",
   "execution_count": 16,
   "metadata": {},
   "outputs": [],
   "source": [
    "with open(\"Datafiles/sample.txt\",'r') as fh:\n",
    "    linenum=1\n",
    "    lines=fh.readlines()\n",
    "fw=open(\"Datafiles/sample.txt\",'w')\n",
    "for line in lines:\n",
    "    print(linenum,line,end=\"\",sep=\".\",file=fw)\n",
    "    linenum +=1\n",
    "fw.close()"
   ]
  },
  {
   "cell_type": "code",
   "execution_count": null,
   "metadata": {},
   "outputs": [],
   "source": []
  },
  {
   "cell_type": "code",
   "execution_count": null,
   "metadata": {},
   "outputs": [],
   "source": []
  }
 ],
 "metadata": {
  "kernelspec": {
   "display_name": "Python 3",
   "language": "python",
   "name": "python3"
  },
  "language_info": {
   "codemirror_mode": {
    "name": "ipython",
    "version": 3
   },
   "file_extension": ".py",
   "mimetype": "text/x-python",
   "name": "python",
   "nbconvert_exporter": "python",
   "pygments_lexer": "ipython3",
   "version": "3.7.3"
  }
 },
 "nbformat": 4,
 "nbformat_minor": 2
}
