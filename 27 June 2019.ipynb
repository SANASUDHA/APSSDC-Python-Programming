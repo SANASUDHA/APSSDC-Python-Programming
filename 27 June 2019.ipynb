{
 "cells": [
  {
   "cell_type": "code",
   "execution_count": 2,
   "metadata": {},
   "outputs": [
    {
     "name": "stdout",
     "output_type": "stream",
     "text": [
      "1 2\n",
      "1 3\n",
      "1 4\n",
      "2 3\n",
      "2 4\n",
      "3 4\n"
     ]
    }
   ],
   "source": [
    "# Function to print all combinations of pairs of integers in aunique list\n",
    "#[1,2,3]->(1,2),(1,3),(2,3) -> 3c2 -> 3!/(3-2)!*2!\n",
    "#[1,2,3,4]-> 1,2  1,3  1,4  2,3  2,4  3,4\n",
    "\n",
    "def combinations(li):\n",
    "    for i in range(len(li)-1):\n",
    "        for j in range(i+1,len(li)):\n",
    "            print(li[i],li[j])\n",
    "    return\n",
    "li=[1,2,3,4]\n",
    "combinations(li)\n",
    "        "
   ]
  },
  {
   "cell_type": "code",
   "execution_count": 5,
   "metadata": {},
   "outputs": [
    {
     "name": "stdout",
     "output_type": "stream",
     "text": [
      "1 2 3\n",
      "1 2 4\n",
      "1 2 5\n",
      "1 3 4\n",
      "1 3 5\n",
      "1 4 5\n",
      "2 3 4\n",
      "2 3 5\n",
      "2 4 5\n",
      "3 4 5\n"
     ]
    }
   ],
   "source": [
    "#[1,2,3,4]-> 1,2,3  1,2,4  1,3,4  2,3,4\n",
    "\n",
    "def combinations3(li):\n",
    "    #for i in range(len(li)-2): or\n",
    "    for i in range(len(li)-1):\n",
    "        for j in range(i+1, len(li)):\n",
    "            for k in range(j+1, len(li)):\n",
    "                print(li[i],li[j],li[k])\n",
    "    return\n",
    "li=[1,2,3,4,5]\n",
    "combinations3(li)\n",
    "        "
   ]
  },
  {
   "cell_type": "code",
   "execution_count": 21,
   "metadata": {},
   "outputs": [
    {
     "data": {
      "text/plain": [
       "[7]"
      ]
     },
     "execution_count": 21,
     "metadata": {},
     "output_type": "execute_result"
    }
   ],
   "source": [
    "#[1,8] -> [1,8,7]-> 7 is the difference between 1 and 8.\n",
    "\n",
    "def differencePairs(li):\n",
    "    newelelist=[]\n",
    "    for i in range(len(li)-1):\n",
    "        for j in range(i+1, len(li)):\n",
    "            d=abs(li[i]-li[j])\n",
    "            if d not in li:\n",
    "                newelelist.append(d)\n",
    "    return newelelist\n",
    "li.extend(newelelist)\n",
    "li=[1,9,8]\n",
    "differencePairs(li)   \n",
    "            "
   ]
  },
  {
   "cell_type": "code",
   "execution_count": 36,
   "metadata": {},
   "outputs": [
    {
     "data": {
      "text/plain": [
       "[[1, 3, 5, 6, 7], [1, 3, 5, 6, 7, 2, 4]]"
      ]
     },
     "execution_count": 36,
     "metadata": {},
     "output_type": "execute_result"
    }
   ],
   "source": [
    "def medium(li,k):\n",
    "    #li3=[[], li]\n",
    "    count=1\n",
    "    while(True):\n",
    "        #if count==1:\n",
    "        li3=differencePairs(li)\n",
    "        if li3[0]==li3[1]:\n",
    "            break\n",
    "    if len(li3[0])>=k:\n",
    "        return sorted(li3[0], reverse=True)[k-1]    \n",
    "    \n",
    "    return -1\n",
    "def differencePairs(li):\n",
    "    cli=li[:]\n",
    "    newelelist=[]\n",
    "    for i in range(len(li)-1):\n",
    "        for j in range(i+1, len(li)):\n",
    "            d=abs(li[i]-li[j])\n",
    "            if d not in li and d not in newelelist:\n",
    "                newelelist.append(d)\n",
    "    \n",
    "    li.extend(newelelist)\n",
    "    return [cli, li]\n",
    "\n",
    "li=[1,3,5,6,7]\n",
    "#medium(li,2) \n",
    "differencePairs(li)"
   ]
  },
  {
   "cell_type": "code",
   "execution_count": 41,
   "metadata": {},
   "outputs": [
    {
     "data": {
      "text/plain": [
       "[[2, 3, 6, 9, 12, 1, 4, 7, 10, 5, 8], [2, 3, 6, 9, 12, 1, 4, 7, 10, 5, 8, 11]]"
      ]
     },
     "execution_count": 41,
     "metadata": {},
     "output_type": "execute_result"
    }
   ],
   "source": [
    "# Convert the list into an arithmetic progression(common difference)\n",
    "\n",
    "def differencePairs(li):\n",
    "    c=li.copy()\n",
    "    newelements=[]\n",
    "    for i in range(len(li)-1):\n",
    "        for j in range(i+1,len(li)):\n",
    "            d=abs(li[i]-li[j])\n",
    "            if d not in li and d not in newelements :\n",
    "                newelements.append(d)\n",
    "    li.extend(newelements)\n",
    "    return li #  return [c,li]\n",
    "li=[2,3,6,9,12,1,4,7,10,5,8]\n",
    "differencePairs(li)"
   ]
  },
  {
   "cell_type": "code",
   "execution_count": 48,
   "metadata": {},
   "outputs": [
    {
     "name": "stdout",
     "output_type": "stream",
     "text": [
      "1 2 3 4 5 6 7 "
     ]
    }
   ],
   "source": [
    "### Set - Data Structure in Python \n",
    "a={1,2,3,4,5,6,6}\n",
    "a.add(7)  # adding single element to a set\n",
    "for i in a:\n",
    "    print(i,end=' ')"
   ]
  },
  {
   "cell_type": "code",
   "execution_count": 49,
   "metadata": {},
   "outputs": [
    {
     "data": {
      "text/plain": [
       "{1, 2, 3, 4, 5, 6, 7, 8, 9, 11, 12, 13}"
      ]
     },
     "execution_count": 49,
     "metadata": {},
     "output_type": "execute_result"
    }
   ],
   "source": [
    "b={7,8,9,1,2,3}\n",
    "li=[11,12,13]\n",
    "a.update(b,li) # adding multiple elements\n",
    "a"
   ]
  },
  {
   "cell_type": "code",
   "execution_count": 54,
   "metadata": {},
   "outputs": [
    {
     "data": {
      "text/plain": [
       "{1, 2, 3, 4, 5, 6, 7, 8, 9, 12}"
      ]
     },
     "execution_count": 54,
     "metadata": {},
     "output_type": "execute_result"
    }
   ],
   "source": [
    "a.discard(b)\n",
    "a\n"
   ]
  },
  {
   "cell_type": "code",
   "execution_count": 58,
   "metadata": {},
   "outputs": [
    {
     "data": {
      "text/plain": [
       "True"
      ]
     },
     "execution_count": 58,
     "metadata": {},
     "output_type": "execute_result"
    }
   ],
   "source": [
    "a={10,1,2,3,4,5,6}\n",
    "b={7,8,9,1,2,3}\n",
    "c={111,123}\n",
    "a.union(b) # A U B = B U A all elements\n",
    "b.union(b)\n",
    "a.intersection(b)  # common elements\n",
    "a.isdisjoint(c)\n"
   ]
  },
  {
   "cell_type": "code",
   "execution_count": 63,
   "metadata": {},
   "outputs": [
    {
     "data": {
      "text/plain": [
       "{4, 5, 6, 7, 8, 9, 10}"
      ]
     },
     "execution_count": 63,
     "metadata": {},
     "output_type": "execute_result"
    }
   ],
   "source": [
    "a-b # all elements of a which are not in b\n",
    "b-a\n",
    "sorted(a)\n",
    "a^b # elements either in a or in b (not common values)"
   ]
  },
  {
   "cell_type": "code",
   "execution_count": 64,
   "metadata": {},
   "outputs": [
    {
     "data": {
      "text/plain": [
       "set()"
      ]
     },
     "execution_count": 64,
     "metadata": {},
     "output_type": "execute_result"
    }
   ],
   "source": [
    "d=set() # creates an empty set\n",
    "d"
   ]
  },
  {
   "cell_type": "code",
   "execution_count": 67,
   "metadata": {},
   "outputs": [
    {
     "data": {
      "text/plain": [
       "{1, 2, 3, 4}"
      ]
     },
     "execution_count": 67,
     "metadata": {},
     "output_type": "execute_result"
    }
   ],
   "source": [
    "li=[1,2,3,4,2,1,2,3,4]\n",
    "u=set(li) # remove the repeated elements \n",
    "u"
   ]
  },
  {
   "cell_type": "markdown",
   "metadata": {},
   "source": [
    "Procedural : c\n",
    "Object Oriented : Java\n",
    "Scripting : PHP, Python, Javascript, Shell, Perl\n",
    "Functional : Python, Haskell, Scala\n",
    "Logic : Prolog,Lisp"
   ]
  },
  {
   "cell_type": "markdown",
   "metadata": {},
   "source": [
    "#### List Comprehensions"
   ]
  },
  {
   "cell_type": "code",
   "execution_count": 71,
   "metadata": {},
   "outputs": [
    {
     "data": {
      "text/plain": [
       "[1, 2, 3, 4, 5, 6, 7, 8, 9, 10]"
      ]
     },
     "execution_count": 71,
     "metadata": {},
     "output_type": "execute_result"
    }
   ],
   "source": [
    "# List of N natural numbers\n",
    "n=10\n",
    "li=[]\n",
    "for i in range(1,n+1):\n",
    "    li.append(i)\n",
    "li\n",
    "    "
   ]
  },
  {
   "cell_type": "code",
   "execution_count": 72,
   "metadata": {},
   "outputs": [
    {
     "data": {
      "text/plain": [
       "[1, 2, 3, 4, 5, 6, 7, 8, 9, 10]"
      ]
     },
     "execution_count": 72,
     "metadata": {},
     "output_type": "execute_result"
    }
   ],
   "source": [
    "li = [i for i in range(1,11)]\n",
    "li"
   ]
  },
  {
   "cell_type": "code",
   "execution_count": 74,
   "metadata": {},
   "outputs": [
    {
     "data": {
      "text/plain": [
       "[1, 8, 27, 64, 125, 216, 343, 512, 729, 1000]"
      ]
     },
     "execution_count": 74,
     "metadata": {},
     "output_type": "execute_result"
    }
   ],
   "source": [
    "# Apply list comprehension to store the \n",
    "# cubes on n natural numbers\n",
    "li=[i**3 for i in range(1,11)]\n",
    "li"
   ]
  },
  {
   "cell_type": "code",
   "execution_count": 80,
   "metadata": {},
   "outputs": [
    {
     "data": {
      "text/plain": [
       "[1, 2, 6, 24, 120]"
      ]
     },
     "execution_count": 80,
     "metadata": {},
     "output_type": "execute_result"
    }
   ],
   "source": [
    "# Function to calculate the m factorial\n",
    "def factorial(n):\n",
    "    if n == 0 or n == 1:\n",
    "        return 1\n",
    "    return n * factorial(n-1)\n",
    "\n",
    "# Apply list comprehension to calculate factorial of N natural nums\n",
    "# factorial of n natural numbers\n",
    "\n",
    "n=5\n",
    "factorialList=[factorial(i) for i in range(1,n+1)]\n",
    "factorialList\n"
   ]
  },
  {
   "cell_type": "code",
   "execution_count": 1,
   "metadata": {},
   "outputs": [
    {
     "data": {
      "text/plain": [
       "[1, 3, 6, 10, 15, 21]"
      ]
     },
     "execution_count": 1,
     "metadata": {},
     "output_type": "execute_result"
    }
   ],
   "source": [
    "# Store cumulative sum of numbers till n in a list\n",
    "# n=5 -> [1, 3, 6, 10, 15] \n",
    "\n",
    "n=6\n",
    "cumulativesum=[sum(range(1,i+1)) for i in range(1,n+1)]\n",
    "cumulativesum                       \n",
    "\n"
   ]
  },
  {
   "cell_type": "code",
   "execution_count": 2,
   "metadata": {},
   "outputs": [
    {
     "data": {
      "text/plain": [
       "[1972, 1976, 1980, 1984, 1988, 1992, 1996, 2000, 2004, 2008, 2012, 2016]"
      ]
     },
     "execution_count": 2,
     "metadata": {},
     "output_type": "execute_result"
    }
   ],
   "source": [
    "# List comprehension to store\n",
    "# only leap years in a given time period\n",
    "syear=1970\n",
    "eyear=2019\n",
    "#leapyears=[1972,1976,1980..2016]\n",
    "leapyears=[i for i in range(syear,eyear+1)\n",
    "           if i%400==0 or (i%100 !=0 and i%4==0)]\n",
    "leapyears"
   ]
  },
  {
   "cell_type": "code",
   "execution_count": 1,
   "metadata": {},
   "outputs": [
    {
     "data": {
      "text/plain": [
       "[1, 2, 3, 4]"
      ]
     },
     "execution_count": 1,
     "metadata": {},
     "output_type": "execute_result"
    }
   ],
   "source": [
    "\n",
    "li=[1,2,3,2,1,4,4,5,5,5]\n",
    "li.sort()\n",
    "unique=[]\n",
    "u2=[]\n",
    "unique=[li[i] for i in range(0,len(li)-1) if li[i]!=li[i+1]]\n",
    "#u2.append(i) for in li if i not in u2\n",
    "unique"
   ]
  },
  {
   "cell_type": "markdown",
   "metadata": {},
   "source": [
    "#### Iterators\n",
    "Iterable - Strings, Lists, Tuples, sets, Dictionaries\n",
    "Convert iterable to iterator -> iter()\n",
    "for loop: \n",
    "iterator:"
   ]
  },
  {
   "cell_type": "code",
   "execution_count": 2,
   "metadata": {},
   "outputs": [
    {
     "name": "stdout",
     "output_type": "stream",
     "text": [
      "1:\n",
      "p\n",
      "\n",
      "\n",
      "2:\n",
      "y\n"
     ]
    }
   ],
   "source": [
    "it=iter(\"python\")  \n",
    "print('1:')\n",
    "print(next(it))\n",
    "print('\\n')\n",
    "print('2:')\n",
    "print(next(it))"
   ]
  },
  {
   "cell_type": "markdown",
   "metadata": {},
   "source": [
    "#### Generator\n",
    " - Generator is a user defined function\n",
    " - yield is like a return"
   ]
  },
  {
   "cell_type": "code",
   "execution_count": 4,
   "metadata": {},
   "outputs": [
    {
     "data": {
      "text/plain": [
       "512"
      ]
     },
     "execution_count": 4,
     "metadata": {},
     "output_type": "execute_result"
    }
   ],
   "source": [
    "def generator():\n",
    "    n=2\n",
    "    for i in range(1,5):\n",
    "        n**=3\n",
    "        yield n\n",
    "        \n",
    "        \n",
    "a=generator()\n",
    "next(a)\n",
    "next(a)  "
   ]
  },
  {
   "cell_type": "code",
   "execution_count": 5,
   "metadata": {},
   "outputs": [
    {
     "name": "stdout",
     "output_type": "stream",
     "text": [
      "2417851639229258349412352\n",
      "14134776518227074636666380005943348126619871175004951664972849610340958208\n",
      "2824013958708217496949108842204627863351353911851577524683401930862693830361198499905873920995229996970897865498283996578123296865878390947626553088486946106430796091482716120572632072492703527723757359478834530365734912\n",
      "22521666186739810716017129863546474247925813985186306383480395759255528226899398031271474259176472311138130302909797370563984143657840869015723623128208458564711932390036470899999940399003451938771468124775412134017692556582989981820657376622292117781429636251681663364133246565240603802421309871873386179061056683850002592550658912005406539073633368208169912295100765107813056035892005304712416817301893705332191267615274619407764899319819287315641053762034009508858938727147166108668063720886082155921552955435591503022900749768195878181491707144967461286550140023171580051111358071521188926359524314904062599527129957121490685127011258936786658012354838528\n",
      "11423562217377937432834817564864391054921813476074403186202876186307194708759156620192815736856953160782704625320798799480493785783539071475308181558958409886139180507766255745268835295645117313504338819263740326883325464574267555496207694285869572314648316514329215930122751571464318862255979369772869442140816230512157201729281184157721386877314303827951055243527097308944107496195827273952935604677267766071546533446890697483255207837930462782684172148575680225197203487779905492453075630072358789672398534046574327392486173694016134122557759726226515008486798286901592462027191956990502296836826476904023063730093767352130344242019656202260888892026453895468229206988071920295008873379682446553369924894350070488891702010078541708225795234839095211089097709112162085120097647338122139833228110600082989392591338433777616544053684799646500413069770687086581487137502485652747714529441936196186003229177757067964120330231232040963858808839184289548225605031170276587718715043046407159535959626211055259297605210472194352154412308176378305978722042762270067173474951806087819815154079666858570587012720661422637817709796687416276036064210127293014198595450513696623633614994073435824842954082330215697686198561610404629566074790086569059643951234599817490323492052082224793909497188899924748028310673588762417682527348630665205417209359086662377804683776356513790589272591978956170307165117107589512088595323312169179624851488689039519409637419425694423986296239609301255502738931127000906125692128912846840805341230670024948640174953768772224370653045179249084484537443164603352860688179124388887671769490857961498972552585448374811136545337429493009247982272748138694950049819837487875349582757538405984852225375998205031894594085879229119678150100444102619057722203800499447489455107613497927587194865059674725545869846288173614441578176037582721675130519361949018877981483652351653188988167198715064479729607107795243426756944986254682519699815429352363416415356114173952\n"
     ]
    }
   ],
   "source": [
    "# For infinite loop\n",
    "\n",
    "def generator():\n",
    "    n=2\n",
    "    while True:\n",
    "        n**=3\n",
    "        yield n\n",
    "        \n",
    "        \n",
    "a=generator()\n",
    "next(a)\n",
    "b=next(a)**2\n",
    "b*=next(a)\n",
    "b\n",
    "\n",
    "for i in range(5):\n",
    "    print(next(a))"
   ]
  },
  {
   "cell_type": "code",
   "execution_count": null,
   "metadata": {},
   "outputs": [],
   "source": []
  }
 ],
 "metadata": {
  "kernelspec": {
   "display_name": "Python 3",
   "language": "python",
   "name": "python3"
  },
  "language_info": {
   "codemirror_mode": {
    "name": "ipython",
    "version": 3
   },
   "file_extension": ".py",
   "mimetype": "text/x-python",
   "name": "python",
   "nbconvert_exporter": "python",
   "pygments_lexer": "ipython3",
   "version": "3.7.3"
  }
 },
 "nbformat": 4,
 "nbformat_minor": 2
}
