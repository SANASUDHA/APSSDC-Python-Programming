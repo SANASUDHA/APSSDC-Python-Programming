{
 "cells": [
  {
   "cell_type": "markdown",
   "metadata": {},
   "source": [
    "# Problem Solving and Programming\n",
    "\n",
    "### 12 June 2019\n",
    "\n",
    "## Day Objectives\n",
    " - String Slicing\n",
    " - Functions in Python\n",
    " - Basic Problem related to conditional statements using functions\n",
    " - Iteration in Python \n",
    " - Problem set\n",
    "   - Function to print all numbers divisible by 6 and not a factor of 100 \n",
    "   - Function to find the average of cubes of all even numbers in a given range\n",
    "   - Function to generate the list of factors for a given number\n",
    "   - calculate the factorial of a given number\n",
    "   - check if a given number is prime\n",
    "   - calculate the average of first N prime numbers\n",
    "   - generate all perfect numbers in a given range\n",
    "  - Advanced Problem Set\n",
    "   - Function to calculate average of all factorials in a given range\n",
    "   - function to generate N odd armstrong numbers\n",
    "   - multiplication table for a number in given range\n",
    "    \n",
    " - Python Data Structures - Lists, Tuples and Dictionaries\n",
    " - Basic Operations on data structures\n",
    " - Applying Data Structures to solve problems"
   ]
  },
  {
   "cell_type": "markdown",
   "metadata": {},
   "source": [
    "### String Slicing"
   ]
  },
  {
   "cell_type": "code",
   "execution_count": 33,
   "metadata": {},
   "outputs": [
    {
     "data": {
      "text/plain": [
       "'wloet yhn'"
      ]
     },
     "execution_count": 33,
     "metadata": {},
     "output_type": "execute_result"
    }
   ],
   "source": [
    "s1 = 'welcome to Python'\n",
    "s1[len(s1)-1]\n",
    "s1[0:7]\n",
    "s1[-2:]\n",
    "s1[1:-1]\n",
    "s1[len(s1)//2] # accessing a middle character in an odd length string\n",
    "s1[-1::-1]\n",
    "s1[-1:-3:-1] #last two characters in reverse order\n",
    "s1[len(s1)//2:len(s1)//2-2:-1] #accessing a middle character in an even length string\n",
    "#Accessing alternate characters in a string\n",
    "s1[::2]\n",
    "s1[]#Alternate characters in reverse order\n",
    "s1[::-2]"
   ]
  },
  {
   "cell_type": "markdown",
   "metadata": {},
   "source": [
    "### Functions"
   ]
  },
  {
   "cell_type": "code",
   "execution_count": 18,
   "metadata": {},
   "outputs": [
    {
     "data": {
      "text/plain": [
       "'nohtyP'"
      ]
     },
     "execution_count": 18,
     "metadata": {},
     "output_type": "execute_result"
    }
   ],
   "source": [
    "# Functions to reverse a string\n",
    "def reversestring(s):\n",
    "    return s[::-1]\n",
    "reversestring(\"Python\")\n"
   ]
  },
  {
   "cell_type": "code",
   "execution_count": 16,
   "metadata": {},
   "outputs": [
    {
     "data": {
      "text/plain": [
       "True"
      ]
     },
     "execution_count": 16,
     "metadata": {},
     "output_type": "execute_result"
    }
   ],
   "source": [
    "# Function to check if a string is a Palindrome\n",
    "def palindrome(s):\n",
    "    if s==s[::-1]:\n",
    "        return True\n",
    "    else:\n",
    "        return False\n",
    "    \n",
    "palindrome(\"RACECAR\")"
   ]
  },
  {
   "cell_type": "code",
   "execution_count": 24,
   "metadata": {},
   "outputs": [
    {
     "data": {
      "text/plain": [
       "True"
      ]
     },
     "execution_count": 24,
     "metadata": {},
     "output_type": "execute_result"
    }
   ],
   "source": [
    "# Function to check if a given year isn a leap year\n",
    "def isLeapYear(year):\n",
    "    if year % 400 == 0 or (year % 100 != 0 and year % 4 ==0):\n",
    "        return True\n",
    "    return False\n",
    "\n",
    "isLeapYear(2020)"
   ]
  },
  {
   "cell_type": "code",
   "execution_count": 29,
   "metadata": {},
   "outputs": [
    {
     "data": {
      "text/plain": [
       "5"
      ]
     },
     "execution_count": 29,
     "metadata": {},
     "output_type": "execute_result"
    }
   ],
   "source": [
    "# Function to count the number of digits in a given number\n",
    "def countnum(n):\n",
    "    return len(str(n))\n",
    "\n",
    "countnum(12345)\n",
    "    \n"
   ]
  },
  {
   "cell_type": "code",
   "execution_count": 31,
   "metadata": {},
   "outputs": [
    {
     "data": {
      "text/plain": [
       "25"
      ]
     },
     "execution_count": 31,
     "metadata": {},
     "output_type": "execute_result"
    }
   ],
   "source": [
    "# Function to identify the greatest of 4 numbers\n",
    "def greatest(n1,n2,n3,n4):\n",
    "    if n1>n2 and n1>n3 and n1>n4:\n",
    "        return n1\n",
    "    elif n2>n3:\n",
    "        return n2\n",
    "    elif n3>n4:\n",
    "        return n3\n",
    "    else:\n",
    "        return n4\n",
    "greatest(15,25,5,10)\n"
   ]
  },
  {
   "cell_type": "markdown",
   "metadata": {},
   "source": [
    "### Iterations\n",
    "\n",
    " - for\n",
    " - while"
   ]
  },
  {
   "cell_type": "code",
   "execution_count": 28,
   "metadata": {},
   "outputs": [
    {
     "name": "stdout",
     "output_type": "stream",
     "text": [
      "1 2 3 4 5 6 7 8 9 10 11 12 13 14 15 16 17 18 19 20 21 22 23 24 25 26 27 28 29 30 "
     ]
    }
   ],
   "source": [
    "# Fucntions to print  a natural numbers\n",
    "def NaturalNums(n):\n",
    "    for counter in range(1, n+1):\n",
    "        print(counter, end=\" \")\n",
    "    return\n",
    "NaturalNums(10)"
   ]
  },
  {
   "cell_type": "code",
   "execution_count": 30,
   "metadata": {},
   "outputs": [
    {
     "name": "stdout",
     "output_type": "stream",
     "text": [
      "1 2 3 4 5 6 7 8 9 "
     ]
    }
   ],
   "source": [
    "# Function N natural numbers using while \n",
    "def Nnatural(n):\n",
    "    counter=1\n",
    "    while counter<=n:\n",
    "        print(counter, end=\" \")\n",
    "        counter=counter+1\n",
    "    return\n",
    "Nnatural(9)"
   ]
  },
  {
   "cell_type": "code",
   "execution_count": 47,
   "metadata": {},
   "outputs": [
    {
     "data": {
      "text/plain": [
       "1.0"
      ]
     },
     "execution_count": 47,
     "metadata": {},
     "output_type": "execute_result"
    }
   ],
   "source": [
    "# Function to find the average of cubes of all even numbers in a given range(lb,ub) inclusive\n",
    "# 1, 10 -> 2,4,6,8,10 -> avg(8,64,216,....)\n",
    "def avgcubes(lb, ub):\n",
    "    sum = 0\n",
    "    count = 0\n",
    "    for i in range(lb, ub+1):\n",
    "        if i % 2 == 0:\n",
    "            sum += i ** 3\n",
    "            count += i ** 3\n",
    "    return sum/count\n",
    "avgcubes(1, 3)"
   ]
  },
  {
   "cell_type": "code",
   "execution_count": 44,
   "metadata": {},
   "outputs": [
    {
     "name": "stdout",
     "output_type": "stream",
     "text": [
      "1 2 3 4 6 12\n"
     ]
    }
   ],
   "source": [
    "# Function to generate the list of factors for a given number eg:12->1 2 3 4 6 12\n",
    "def factorslist(n):\n",
    "    for i in range(1, n//2+1):\n",
    "        if n % i == 0:\n",
    "            print(i, end =\" \")\n",
    "    print(n)\n",
    "    return\n",
    "factorslist(12)"
   ]
  },
  {
   "cell_type": "code",
   "execution_count": 53,
   "metadata": {},
   "outputs": [
    {
     "data": {
      "text/plain": [
       "True"
      ]
     },
     "execution_count": 53,
     "metadata": {},
     "output_type": "execute_result"
    }
   ],
   "source": [
    "# Function to check if a given number is prime \n",
    "def isprime(n):\n",
    "    flag = True\n",
    "    for i in range(2, n//2+1):\n",
    "        if n % i == 0:\n",
    "            flag = False\n",
    "            return flag\n",
    "        return flag\n",
    "isprime(17)"
   ]
  },
  {
   "cell_type": "code",
   "execution_count": 60,
   "metadata": {},
   "outputs": [
    {
     "data": {
      "text/plain": [
       "14"
      ]
     },
     "execution_count": 60,
     "metadata": {},
     "output_type": "execute_result"
    }
   ],
   "source": [
    "# Functions to calculate the average first N prime numbers\n",
    "def avgNprime(n):\n",
    "    primecount = 0\n",
    "    sum = 0\n",
    "    seqcount = 2\n",
    "    while(primecount < n):\n",
    "        if isprime(seqcount):\n",
    "            primecount += 1\n",
    "            sum += seqcount\n",
    "        seqcount += 1\n",
    "    return sum//n\n",
    "avgNprime(10)\n",
    "        "
   ]
  },
  {
   "cell_type": "code",
   "execution_count": 1,
   "metadata": {},
   "outputs": [
    {
     "name": "stdout",
     "output_type": "stream",
     "text": [
      "6 28 496 8128 "
     ]
    }
   ],
   "source": [
    "# Function to generate all perfect numbers in a given range\n",
    "def isperfect(n):\n",
    "    res=0;\n",
    "    for i in range(1,n):\n",
    "        if(n%i==0):\n",
    "            res+=i;\n",
    "    if(res==n):\n",
    "        return True\n",
    "    return False\n",
    "def generateperfect(lb, ub):\n",
    "    for i in range(lb, ub+1):\n",
    "        if isperfect(i):\n",
    "            print(i, end=\" \")\n",
    "    return\n",
    "\n",
    "generateperfect(1, 10000)"
   ]
  },
  {
   "cell_type": "markdown",
   "metadata": {},
   "source": [
    "#### Probelm Statement"
   ]
  },
  {
   "cell_type": "code",
   "execution_count": 2,
   "metadata": {},
   "outputs": [
    {
     "data": {
      "text/plain": [
       "3628800"
      ]
     },
     "execution_count": 2,
     "metadata": {},
     "output_type": "execute_result"
    }
   ],
   "source": [
    "# Function to generate all perfect numbers in a given range\n",
    "# perfect number - sum of all its factors is equal to the number itself\n",
    "# 6-1,2,3\n",
    "# lb, ub\n",
    "\n",
    "def factorial(n):\n",
    "    fact =1\n",
    "    for i in range(2, n+1):\n",
    "        fact *=i\n",
    "    return fact\n",
    "factorial(10)"
   ]
  },
  {
   "cell_type": "code",
   "execution_count": 15,
   "metadata": {},
   "outputs": [
    {
     "name": "stdout",
     "output_type": "stream",
     "text": [
      "102\n",
      "108\n",
      "114\n",
      "120\n",
      "126\n",
      "132\n",
      "138\n",
      "144\n",
      "150\n",
      "156\n",
      "162\n",
      "168\n",
      "174\n",
      "180\n",
      "186\n",
      "192\n",
      "198\n"
     ]
    }
   ],
   "source": [
    "# Function to print all numbers divisible by 6 and not a factor of 100 in \n",
    "#a given range(lb, ub) inclusivedef sumDivisible(L, R): \n",
    "def divisibleby6(lb, ub):\n",
    "        for i in range(lb, ub+1):\n",
    "            if i % 6 == 0 and 100 % i !=0 :\n",
    "                print(i)\n",
    "        return\n",
    "divisibleby6(100, 200)"
   ]
  }
 ],
 "metadata": {
  "kernelspec": {
   "display_name": "Python 3",
   "language": "python",
   "name": "python3"
  },
  "language_info": {
   "codemirror_mode": {
    "name": "ipython",
    "version": 3
   },
   "file_extension": ".py",
   "mimetype": "text/x-python",
   "name": "python",
   "nbconvert_exporter": "python",
   "pygments_lexer": "ipython3",
   "version": "3.7.3"
  }
 },
 "nbformat": 4,
 "nbformat_minor": 2
}
