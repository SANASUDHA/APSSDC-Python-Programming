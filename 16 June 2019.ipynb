{
 "cells": [
  {
   "cell_type": "markdown",
   "metadata": {},
   "source": [
    "### Practicing Problems In Hackerearth\n",
    "#### Book of Potion making"
   ]
  },
  {
   "cell_type": "code",
   "execution_count": 1,
   "metadata": {},
   "outputs": [
    {
     "name": "stdout",
     "output_type": "stream",
     "text": [
      "1401601499\n",
      "Legal ISBN\n"
     ]
    }
   ],
   "source": [
    "s=input()\n",
    "i=1\n",
    "res=0;\n",
    "for ele in s:\n",
    "    res=res+(i*int(ele))\n",
    "    i+=1\n",
    "#print(res)\n",
    "if(res%11==0):\n",
    "    print(\"Legal ISBN\")\n",
    "else:\n",
    "    print(\"Illegal ISBN\")"
   ]
  },
  {
   "cell_type": "markdown",
   "metadata": {},
   "source": [
    "#### Life, the Universe, and Everything"
   ]
  },
  {
   "cell_type": "code",
   "execution_count": null,
   "metadata": {},
   "outputs": [],
   "source": [
    "l=[]\n",
    "while True:\n",
    "    try:\n",
    "        n=int(input())\n",
    "        if(n==42):\n",
    "            break\n",
    "        else:\n",
    "            l.append(n)\n",
    "    except:\n",
    "        break\n",
    "for element in l:\n",
    "    print(element)"
   ]
  },
  {
   "cell_type": "markdown",
   "metadata": {},
   "source": [
    "#### Ladderophilia"
   ]
  },
  {
   "cell_type": "code",
   "execution_count": null,
   "metadata": {},
   "outputs": [],
   "source": [
    "n=int(input())\n",
    "while(n!=0):\n",
    "    print(\"*   *\")\n",
    "    print(\"*   *\")\n",
    "    print(\"*****\");\n",
    "    n-=1;\n",
    "print(\"*   *\")\n",
    "print(\"*   *\")"
   ]
  },
  {
   "cell_type": "code",
   "execution_count": null,
   "metadata": {},
   "outputs": [],
   "source": []
  }
 ],
 "metadata": {
  "kernelspec": {
   "display_name": "Python 3",
   "language": "python",
   "name": "python3"
  },
  "language_info": {
   "codemirror_mode": {
    "name": "ipython",
    "version": 3
   },
   "file_extension": ".py",
   "mimetype": "text/x-python",
   "name": "python",
   "nbconvert_exporter": "python",
   "pygments_lexer": "ipython3",
   "version": "3.7.3"
  }
 },
 "nbformat": 4,
 "nbformat_minor": 2
}
