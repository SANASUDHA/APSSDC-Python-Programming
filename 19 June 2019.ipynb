{
 "cells": [
  {
   "cell_type": "code",
   "execution_count": 5,
   "metadata": {},
   "outputs": [
    {
     "name": "stdout",
     "output_type": "stream",
     "text": [
      "143\n",
      "{'key': 143, 'key1': 3455, 'key2': 7878}\n"
     ]
    }
   ],
   "source": [
    "d={\"key\":12233,\"key1\":3455,\"key2\":7878}\n",
    "def modify(key):\n",
    "    if key in d:\n",
    "        d[\"key\"]=int(input())\n",
    "    else:\n",
    "        print(\"key is not in dict\")\n",
    "modify(\"key2\")\n",
    "print(d)\n",
    "    "
   ]
  },
  {
   "cell_type": "code",
   "execution_count": 6,
   "metadata": {},
   "outputs": [
    {
     "data": {
      "text/plain": [
       "{'key': 143, 'key2': 7878}"
      ]
     },
     "execution_count": 6,
     "metadata": {},
     "output_type": "execute_result"
    }
   ],
   "source": [
    "def remove(key):\n",
    "    if key in d:\n",
    "        d.pop(key)\n",
    "    else:\n",
    "        print(\"key not in dict\")\n",
    "remove(\"key1\")\n",
    "d"
   ]
  },
  {
   "cell_type": "code",
   "execution_count": 9,
   "metadata": {},
   "outputs": [
    {
     "data": {
      "text/plain": [
       "{'g': 4}"
      ]
     },
     "execution_count": 9,
     "metadata": {},
     "output_type": "execute_result"
    }
   ],
   "source": [
    "dic={\"k\":2,\"g\":4}\n",
    "dic.pop(\"k\")\n",
    "dic"
   ]
  },
  {
   "cell_type": "markdown",
   "metadata": {},
   "source": [
    "###### how to take a multiple inputs in hackerearth\n",
    "Inputs: 5 3\n",
    "1 2 3 4 5\n",
    "4\n",
    "1 3\n",
    "1 4\n",
    "5 7\n",
    "5 9\n"
   ]
  },
  {
   "cell_type": "code",
   "execution_count": 14,
   "metadata": {},
   "outputs": [
    {
     "name": "stdout",
     "output_type": "stream",
     "text": [
      "2 3\n"
     ]
    },
    {
     "data": {
      "text/plain": [
       "int"
      ]
     },
     "execution_count": 14,
     "metadata": {},
     "output_type": "execute_result"
    }
   ],
   "source": [
    "l,n=map(int,input().split())\n",
    "type(l)"
   ]
  },
  {
   "cell_type": "code",
   "execution_count": 13,
   "metadata": {},
   "outputs": [
    {
     "name": "stdout",
     "output_type": "stream",
     "text": [
      "1 2 3 4 5\n"
     ]
    },
    {
     "data": {
      "text/plain": [
       "list"
      ]
     },
     "execution_count": 13,
     "metadata": {},
     "output_type": "execute_result"
    }
   ],
   "source": [
    "a=list(map(int,input().split()))\n",
    "type(a)"
   ]
  },
  {
   "cell_type": "code",
   "execution_count": 16,
   "metadata": {},
   "outputs": [
    {
     "name": "stdout",
     "output_type": "stream",
     "text": [
      "4\n",
      "1 3\n",
      "1 3\n",
      "2 3\n",
      "2 3\n",
      "3 4\n",
      "3 4\n",
      "4 5\n",
      "4 5\n"
     ]
    }
   ],
   "source": [
    "k=int(input())\n",
    "for i in range(k):\n",
    "    a,b=map(int,input().split()) # store two variables\n",
    "    print(a,b)\n",
    "    "
   ]
  },
  {
   "cell_type": "markdown",
   "metadata": {},
   "source": [
    "#### Anagrams"
   ]
  },
  {
   "cell_type": "code",
   "execution_count": 28,
   "metadata": {},
   "outputs": [
    {
     "name": "stdout",
     "output_type": "stream",
     "text": [
      "3\n",
      "abc\n",
      "cde\n",
      "4\n",
      "bcd\n",
      "adc\n",
      "2\n",
      "rgs\n",
      "srg\n",
      "0\n"
     ]
    }
   ],
   "source": [
    "for _ in range(int(input())):\n",
    "    a=input()\n",
    "    b=input()\n",
    "    a1=[0]*26\n",
    "    b1=[0]*26\n",
    "    for ele in a:\n",
    "        a1[ord(ele)-97]+=1\n",
    "    for ele in b:\n",
    "        b1[ord(ele)-97]+=1\n",
    "    res=0\n",
    "    for i in range(26):\n",
    "        res=res+(abs(a1[i]-b1[i]))\n",
    "    print(res)"
   ]
  },
  {
   "cell_type": "markdown",
   "metadata": {},
   "source": [
    "#### Bricks Game"
   ]
  },
  {
   "cell_type": "code",
   "execution_count": 1,
   "metadata": {},
   "outputs": [
    {
     "name": "stdout",
     "output_type": "stream",
     "text": [
      "13\n",
      "Motu\n"
     ]
    }
   ],
   "source": [
    "n=int(input())\n",
    "def cal(n):\n",
    "    res=0\n",
    "    i=1\n",
    "    count=0\n",
    "    while(1):\n",
    "        res=res+i\n",
    "        count=count+1\n",
    "        if(res>=n):\n",
    "            return count\n",
    "        res=res+(i*i)\n",
    "        count=count+1\n",
    "        if(res>=n):\n",
    "            return count\n",
    "        i+=1\n",
    "if(cal(n)&1):\n",
    "    print(\"Patlu\")\n",
    "else:\n",
    "    print(\"Motu\")"
   ]
  },
  {
   "cell_type": "markdown",
   "metadata": {},
   "source": [
    "##### Ali and Helping innocent people"
   ]
  },
  {
   "cell_type": "code",
   "execution_count": 5,
   "metadata": {},
   "outputs": [
    {
     "name": "stdout",
     "output_type": "stream",
     "text": [
      "12X345-67\n",
      "invalid\n"
     ]
    }
   ],
   "source": [
    "def check(s):\n",
    "    k=s[2]\n",
    "    if(k=='A' or k=='E' or k=='I' or k=='O' or k=='U'):\n",
    "        if((s[0]+s[1])%2==0):\n",
    "            if(s[3]+s[4]%2==0):\n",
    "                if(s[4]+s[5]%2==0):\n",
    "                    if(s[7]+s[8]%2==0):\n",
    "                        return True\n",
    "                    else:\n",
    "                        return False\n",
    "                else:\n",
    "                    return False\n",
    "            else:\n",
    "                return False\n",
    "        else:\n",
    "            return False\n",
    "    else:\n",
    "        return False\n",
    "if(check(input())):\n",
    "    print(\"valid\")\n",
    "else:\n",
    "    print(\"invalid\")"
   ]
  },
  {
   "cell_type": "markdown",
   "metadata": {},
   "source": [
    "#####  Lift queries"
   ]
  },
  {
   "cell_type": "code",
   "execution_count": 6,
   "metadata": {},
   "outputs": [
    {
     "name": "stdout",
     "output_type": "stream",
     "text": [
      "2\n",
      "3\n",
      "A\n",
      "5\n",
      "A\n"
     ]
    }
   ],
   "source": [
    "ll=0\n",
    "ul=7\n",
    "for _ in range(int(input())):\n",
    "    k=int(input());\n",
    "    if(abs(k-ll)<=abs(k-ul)):\n",
    "        print(\"A\")\n",
    "        ll+=k\n",
    "    else:\n",
    "        print(\"B\")\n",
    "        ul+=k"
   ]
  },
  {
   "cell_type": "markdown",
   "metadata": {},
   "source": [
    "#### Aman & Mr.Sharma"
   ]
  },
  {
   "cell_type": "code",
   "execution_count": 7,
   "metadata": {},
   "outputs": [
    {
     "name": "stdout",
     "output_type": "stream",
     "text": [
      "3\n",
      "3 2\n",
      "28.285714285714285 200\n",
      "5 2\n",
      "78.57142857142857 200\n",
      "1 2\n",
      "3.142857142857143 200\n",
      "0\n"
     ]
    }
   ],
   "source": [
    "pi=22/7\n",
    "count=0\n",
    "for _ in range(int(input())):\n",
    "    r,x=[int(x) for x in input().split()]\n",
    "    area=pi*(r*r)\n",
    "    area1=100*x\n",
    "    print(area,area1)\n",
    "print(count)"
   ]
  },
  {
   "cell_type": "markdown",
   "metadata": {},
   "source": [
    "#### Magical Word"
   ]
  },
  {
   "cell_type": "code",
   "execution_count": 8,
   "metadata": {},
   "outputs": [
    {
     "name": "stdout",
     "output_type": "stream",
     "text": [
      "1\n",
      "6\n",
      "AFREEN\n",
      "CGSCCO\n"
     ]
    }
   ],
   "source": [
    "def isprime(n):\n",
    "    for i in range(2,n):\n",
    "        if(n%i==0):\n",
    "            return False\n",
    "    return True\n",
    "def neariprime(n):\n",
    "    while(1):\n",
    "        if(isprime(n)):\n",
    "            return n\n",
    "        n+=1\n",
    "        \n",
    "def neardprime(n):\n",
    "    while(n!=0):\n",
    "        if(isprime(n)):\n",
    "            return n\n",
    "        n-=1\n",
    "for _ in range(int(input())):\n",
    "    n=int(input())\n",
    "    s=input()\n",
    "    res=\"\"\n",
    "    for ele in s:\n",
    "        k=ord(ele)\n",
    "        \n",
    "        a=neariprime(k)\n",
    "        b=neardprime(k)\n",
    "        if(abs(b-k)<=abs(a-k)):\n",
    "            res=res+chr(b)\n",
    "        else:\n",
    "            res=res+chr(a)\n",
    "    print(res)\n",
    "            "
   ]
  },
  {
   "cell_type": "markdown",
   "metadata": {},
   "source": [
    "#### Roy and Profile Picture"
   ]
  },
  {
   "cell_type": "code",
   "execution_count": null,
   "metadata": {},
   "outputs": [],
   "source": []
  }
 ],
 "metadata": {
  "kernelspec": {
   "display_name": "Python 3",
   "language": "python",
   "name": "python3"
  },
  "language_info": {
   "codemirror_mode": {
    "name": "ipython",
    "version": 3
   },
   "file_extension": ".py",
   "mimetype": "text/x-python",
   "name": "python",
   "nbconvert_exporter": "python",
   "pygments_lexer": "ipython3",
   "version": "3.7.3"
  }
 },
 "nbformat": 4,
 "nbformat_minor": 2
}
