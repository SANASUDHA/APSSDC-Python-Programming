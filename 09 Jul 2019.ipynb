{
 "cells": [
  {
   "cell_type": "code",
   "execution_count": 1,
   "metadata": {},
   "outputs": [
    {
     "name": "stdout",
     "output_type": "stream",
     "text": [
      "3\n",
      "3 2\n",
      "5 2\n",
      "1 2\n",
      "3\n"
     ]
    }
   ],
   "source": [
    "d=int(input())\n",
    "#count=0\n",
    "def toffee(d):\n",
    "    count=0\n",
    "    for i in range(d):\n",
    "        r,x=map(int,input().split())\n",
    "        if (100*x)>(2*(22/7)*r):\n",
    "            count+=1\n",
    "    print(count)\n",
    "toffee(d)"
   ]
  },
  {
   "cell_type": "code",
   "execution_count": null,
   "metadata": {},
   "outputs": [],
   "source": [
    "3\n",
    "Sana SudhaHello HaitoEveryone WHERTYUIO\n",
    "HE :HaitoEveryone WHERTYUIO\n",
    "\n",
    "Sana SudhaHello HaitoEveryone WHERTYUIO\n",
    "WH : WHERTYUIO\n",
    "\n",
    "Sana SudhaHello HaitoEveryone WHERTYUIO\n",
    "HT : -1\n"
   ]
  },
  {
   "cell_type": "code",
   "execution_count": 30,
   "metadata": {},
   "outputs": [
    {
     "name": "stdout",
     "output_type": "stream",
     "text": [
      "1\n",
      "Sana SudhaHello HaitoEveryone WHERTYUIO\n",
      "HE\n",
      "HaitoEveryone WHERTYUIO "
     ]
    }
   ],
   "source": [
    "q=int(input())\n",
    "for _ in range(q):\n",
    "    s=list(input().split())\n",
    "    w=input()\n",
    "    r=[]\n",
    "    flag=0\n",
    "    for i in s:\n",
    "        res=\"\"\n",
    "        for j in i:\n",
    "            if j.isupper():\n",
    "                res+=j\n",
    "        r.append(res)\n",
    "    for i in range(len(s)):\n",
    "        if w in r[i]:\n",
    "            print(s[i],end=\" \")\n",
    "            flag=1\n",
    "    if flag==0:\n",
    "        print('-1')"
   ]
  },
  {
   "cell_type": "code",
   "execution_count": 27,
   "metadata": {},
   "outputs": [
    {
     "name": "stdout",
     "output_type": "stream",
     "text": [
      "1\n"
     ]
    }
   ],
   "source": [
    "s=\"SHTE\"\n",
    "if 'HT' in s:\n",
    "    print(1)\n",
    "else:\n",
    "    print(0)"
   ]
  },
  {
   "cell_type": "code",
   "execution_count": 31,
   "metadata": {},
   "outputs": [
    {
     "data": {
      "text/plain": [
       "'hAi'"
      ]
     },
     "execution_count": 31,
     "metadata": {},
     "output_type": "execute_result"
    }
   ],
   "source": [
    "s=\"HaI\"\n",
    "s.swapcase()"
   ]
  },
  {
   "cell_type": "code",
   "execution_count": null,
   "metadata": {},
   "outputs": [],
   "source": []
  },
  {
   "cell_type": "code",
   "execution_count": 33,
   "metadata": {},
   "outputs": [
    {
     "name": "stdout",
     "output_type": "stream",
     "text": [
      "3\n",
      "Ssdfgh WTdfgh Tdfghj HDNPfghj sdfghjS\n",
      "S\n",
      "Ssdfgh\n",
      "sdfghjS\n",
      "Ssdfgh WTdfgh Tdfghj HDNPfghj sdfghjS\n",
      "WN\n",
      "-1\n",
      "Ssdfgh WTdfgh Tdfghj HDNPfghj sdfghjS\n",
      "TW\n",
      "-1\n"
     ]
    }
   ],
   "source": [
    "q=int(input())\n",
    "for i in range(q):\n",
    "    s=list(input().split())\n",
    "    w=input()\n",
    "    li=[]\n",
    "    flag=0\n",
    "    for i in s:\n",
    "        res=\"\"\n",
    "        for j in i:\n",
    "            if j.isupper():\n",
    "                res += j\n",
    "        li.append(res)\n",
    "    for i in range(len(s)):\n",
    "        if w in li[i]:\n",
    "            print(s[i],end=\" \")\n",
    "            flag=1\n",
    "    if flag==0:\n",
    "        print(\"-1\")            "
   ]
  },
  {
   "cell_type": "code",
   "execution_count": 37,
   "metadata": {},
   "outputs": [
    {
     "name": "stdout",
     "output_type": "stream",
     "text": [
      "1 Sumanth\n",
      "2 Sana Sudha\n",
      "3 Haripriya\n",
      "4 Siva prasad\n",
      "5 pavan\n",
      "6 badulla\n"
     ]
    }
   ],
   "source": [
    "# Given all the individual scores of 10 batsmen along with their names\n",
    "# print their ranking based on the scores\n",
    "# example:\n",
    "    # badulla : 20\n",
    "    # Sana Sudha : 300\n",
    "    # Sumanth : 500\n",
    "    # Haripriya : 200\n",
    "    # Siva prasad : 100\n",
    "    # pavan : 50\n",
    "# Out Put:    \n",
    "# 1 Sumanth\n",
    "# 2 Sana Sudha\n",
    "# 3 Haripriya\n",
    "# 4 Siva prasad\n",
    "# 5 Pavan\n",
    "# 6 Badulla\n",
    "\n",
    "d={\"badulla\":20,\"Sana Sudha\":300,\"Sumanth\":500,\"Haripriya\":200,\"Siva prasad\":100,\"pavan\":50}\n",
    "k=dict(sorted(d.items(),key=lambda x:x[1],reverse=True))\n",
    "j=1\n",
    "for i in k:\n",
    "    print(j,i)\n",
    "    j += 1    "
   ]
  },
  {
   "cell_type": "code",
   "execution_count": 35,
   "metadata": {},
   "outputs": [
    {
     "name": "stdout",
     "output_type": "stream",
     "text": [
      "16 8\n",
      "1\n",
      "2\n",
      "4\n",
      "8\n"
     ]
    }
   ],
   "source": [
    "# Given 2 integers find out the number of common factors given two digits\n",
    "a,b=map(int,input().split())\n",
    "for i in range(1,a+b):\n",
    "    if a%i==0 and b%i==0:\n",
    "        print(i)"
   ]
  },
  {
   "cell_type": "code",
   "execution_count": null,
   "metadata": {},
   "outputs": [],
   "source": []
  }
 ],
 "metadata": {
  "kernelspec": {
   "display_name": "Python 3",
   "language": "python",
   "name": "python3"
  },
  "language_info": {
   "codemirror_mode": {
    "name": "ipython",
    "version": 3
   },
   "file_extension": ".py",
   "mimetype": "text/x-python",
   "name": "python",
   "nbconvert_exporter": "python",
   "pygments_lexer": "ipython3",
   "version": "3.7.3"
  }
 },
 "nbformat": 4,
 "nbformat_minor": 2
}
